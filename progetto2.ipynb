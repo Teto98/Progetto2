{
 "cells": [
  {
   "cell_type": "code",
   "execution_count": 1,
   "id": "a16ad44f-daad-485e-a294-3229279c16e9",
   "metadata": {},
   "outputs": [
    {
     "data": {
      "text/plain": [
       "4613"
      ]
     },
     "execution_count": 1,
     "metadata": {},
     "output_type": "execute_result"
    }
   ],
   "source": [
    "#rifatto in laboratorio\n",
    "# rifatto con sathya il 20 ottobre\n",
    "import json\n",
    "import numpy\n",
    "from sklearn.feature_extraction.text import CountVectorizer\n",
    "\n",
    "testDataset=json.load(open('test.json'))\n",
    "validDataset=json.load(open('valid.json'))\n",
    "\n",
    "#combined_dataset=[]\n",
    "#for diz in testDataset:\n",
    "#    combined_dataset.append(diz['original_situation'])\n",
    "#for diz in validDataset:\n",
    "#    combined_dataset.append(diz['original_situation'])\n",
    "#dataset combinati, numero di frasi\n",
    "#len(combined_dataset)\n",
    "#combined_dataset\n",
    "i=0\n",
    "combined_dataset={}\n",
    "for diz in testDataset:\n",
    "    combined_dataset[i]=diz\n",
    "   # print(i)\n",
    "    i=i+1\n",
    "for diz in validDataset:\n",
    "    combined_dataset[i]=diz\n",
    "    i=i+1\n",
    "#print(i)   \n",
    "len(combined_dataset)"
   ]
  },
  {
   "cell_type": "code",
   "execution_count": 2,
   "id": "41952a1b-b23c-44ee-9bad-3cb2ef882482",
   "metadata": {},
   "outputs": [
    {
     "name": "stdout",
     "output_type": "stream",
     "text": [
      "Totale parole trovate = 5813\n",
      "\n",
      "(4613, 5813)\n"
     ]
    }
   ],
   "source": [
    "#creo il vocabolario e il bow per le frasi\n",
    "listaFrasi=[]\n",
    "for diz in combined_dataset.values():\n",
    "    listaFrasi.append(diz['original_situation'])\n",
    "   # print(diz)\n",
    "len(listaFrasi)\n",
    "cv = CountVectorizer()\n",
    "count_matrix = cv.fit(listaFrasi) #potevo anche non assegnarlo alla variabile count matrix\n",
    "vocabulary_words = cv.get_feature_names()\n",
    "print('Totale parole trovate = {}\\n'.format(len(vocabulary_words)))\n",
    "#print('lista di parole del vocabolario:\\n\\t{}\\n'.format(vocabulary_words))\n",
    "\n",
    "#creo il bow del dataset\n",
    "frasi_BoW = cv.transform(listaFrasi)\n",
    "print(frasi_BoW.shape)"
   ]
  },
  {
   "cell_type": "code",
   "execution_count": 3,
   "id": "674c2b00-15ab-45ed-b424-4cb2cc3ccd24",
   "metadata": {},
   "outputs": [
    {
     "name": "stdout",
     "output_type": "stream",
     "text": [
      "(4613, 5813)\n"
     ]
    }
   ],
   "source": [
    "#creo il vocabolario e il bow per le parole emotive\n",
    "listaParoleEmotive=[]\n",
    "for diz in combined_dataset.values():\n",
    "    x=\" \".join(diz['labels'])\n",
    "    #print(x)\n",
    "    listaParoleEmotive.append(x)\n",
    "len(listaParoleEmotive)\n",
    "pe_BoW=cv.transform(listaParoleEmotive)\n",
    "\n",
    "print(pe_BoW.shape)"
   ]
  },
  {
   "cell_type": "code",
   "execution_count": 4,
   "id": "356ba05a-2052-49fe-a462-21164c154fdb",
   "metadata": {},
   "outputs": [],
   "source": [
    "newArray=[]\n",
    "pe_BoW_array = pe_BoW.toarray()\n",
    "for row in pe_BoW_array:\n",
    "    riga=[]\n",
    "    for i in row:\n",
    "        if i>1:\n",
    "            riga.append(1)\n",
    "        else:\n",
    "            riga.append(i)\n",
    "    newArray.append(row)\n",
    "    #print(row)\n",
    "#newArray\n",
    "\n"
   ]
  },
  {
   "cell_type": "code",
   "execution_count": 5,
   "id": "30a8c5c3-d833-4ce2-9a8b-195c4e207717",
   "metadata": {},
   "outputs": [
    {
     "name": "stdout",
     "output_type": "stream",
     "text": [
      "  (0, 2166)\t1\n",
      "  (0, 2290)\t1\n",
      "  (0, 4220)\t1\n",
      "rendition\n"
     ]
    }
   ],
   "source": [
    "#print('pe matrix:\\n{}\\n'.format(type(pe_BoW))\n",
    "#print('frasi matrix :\\n{}\\n'.format(frasi_BoW))\n",
    "print(pe_BoW[0])\n",
    "print(vocabulary_words[4220])"
   ]
  },
  {
   "cell_type": "code",
   "execution_count": 6,
   "id": "f0c8a93a-28d2-49ed-ad35-14f2e1a303b6",
   "metadata": {},
   "outputs": [
    {
     "data": {
      "text/html": [
       "<div>\n",
       "<style scoped>\n",
       "    .dataframe tbody tr th:only-of-type {\n",
       "        vertical-align: middle;\n",
       "    }\n",
       "\n",
       "    .dataframe tbody tr th {\n",
       "        vertical-align: top;\n",
       "    }\n",
       "\n",
       "    .dataframe thead th {\n",
       "        text-align: right;\n",
       "    }\n",
       "</style>\n",
       "<table border=\"1\" class=\"dataframe\">\n",
       "  <thead>\n",
       "    <tr style=\"text-align: right;\">\n",
       "      <th></th>\n",
       "      <th>Word</th>\n",
       "      <th>V.Mean.Sum</th>\n",
       "      <th>A.Mean.Sum</th>\n",
       "    </tr>\n",
       "  </thead>\n",
       "  <tbody>\n",
       "    <tr>\n",
       "      <th>0</th>\n",
       "      <td>aardvark</td>\n",
       "      <td>6.26</td>\n",
       "      <td>2.41</td>\n",
       "    </tr>\n",
       "    <tr>\n",
       "      <th>1</th>\n",
       "      <td>abalone</td>\n",
       "      <td>5.30</td>\n",
       "      <td>2.65</td>\n",
       "    </tr>\n",
       "    <tr>\n",
       "      <th>2</th>\n",
       "      <td>abandon</td>\n",
       "      <td>2.84</td>\n",
       "      <td>3.73</td>\n",
       "    </tr>\n",
       "    <tr>\n",
       "      <th>3</th>\n",
       "      <td>abandonment</td>\n",
       "      <td>2.63</td>\n",
       "      <td>4.95</td>\n",
       "    </tr>\n",
       "    <tr>\n",
       "      <th>4</th>\n",
       "      <td>abbey</td>\n",
       "      <td>5.85</td>\n",
       "      <td>2.20</td>\n",
       "    </tr>\n",
       "  </tbody>\n",
       "</table>\n",
       "</div>"
      ],
      "text/plain": [
       "          Word  V.Mean.Sum  A.Mean.Sum\n",
       "0     aardvark        6.26        2.41\n",
       "1      abalone        5.30        2.65\n",
       "2      abandon        2.84        3.73\n",
       "3  abandonment        2.63        4.95\n",
       "4        abbey        5.85        2.20"
      ]
     },
     "execution_count": 6,
     "metadata": {},
     "output_type": "execute_result"
    }
   ],
   "source": [
    "#importo lessico del modello\n",
    "import pandas as pd\n",
    "df=pd.read_csv(r'Ratings_Warriner_et_al.csv',usecols = ['Word','V.Mean.Sum','A.Mean.Sum'])\n",
    "df.head()"
   ]
  },
  {
   "cell_type": "code",
   "execution_count": 7,
   "id": "0f400608-56ac-499b-a142-ca340de573ec",
   "metadata": {},
   "outputs": [
    {
     "data": {
      "text/html": [
       "<div>\n",
       "<style scoped>\n",
       "    .dataframe tbody tr th:only-of-type {\n",
       "        vertical-align: middle;\n",
       "    }\n",
       "\n",
       "    .dataframe tbody tr th {\n",
       "        vertical-align: top;\n",
       "    }\n",
       "\n",
       "    .dataframe thead th {\n",
       "        text-align: right;\n",
       "    }\n",
       "</style>\n",
       "<table border=\"1\" class=\"dataframe\">\n",
       "  <thead>\n",
       "    <tr style=\"text-align: right;\">\n",
       "      <th></th>\n",
       "      <th>Word</th>\n",
       "      <th>V.Mean.Sum</th>\n",
       "      <th>A.Mean.Sum</th>\n",
       "    </tr>\n",
       "  </thead>\n",
       "  <tbody>\n",
       "    <tr>\n",
       "      <th>0</th>\n",
       "      <td>aardvark</td>\n",
       "      <td>6.26</td>\n",
       "      <td>2.41</td>\n",
       "    </tr>\n",
       "  </tbody>\n",
       "</table>\n",
       "</div>"
      ],
      "text/plain": [
       "       Word  V.Mean.Sum  A.Mean.Sum\n",
       "0  aardvark        6.26        2.41"
      ]
     },
     "execution_count": 7,
     "metadata": {},
     "output_type": "execute_result"
    }
   ],
   "source": [
    "df.iloc[[0]]"
   ]
  },
  {
   "cell_type": "code",
   "execution_count": 8,
   "id": "2e5f006b-fdcf-4381-b099-8f20017bd8ea",
   "metadata": {},
   "outputs": [
    {
     "data": {
      "text/plain": [
       "pandas.core.series.Series"
      ]
     },
     "execution_count": 8,
     "metadata": {},
     "output_type": "execute_result"
    }
   ],
   "source": [
    "valence=df['V.Mean.Sum']\n",
    "arousal=df['A.Mean.Sum']\n",
    "paroleVocabolarioInglese=df['Word']\n",
    "type(valence)"
   ]
  },
  {
   "cell_type": "code",
   "execution_count": 9,
   "id": "bcbbe9b8-723e-4c9a-a3df-c0671ebc003d",
   "metadata": {},
   "outputs": [],
   "source": [
    "num_elemVal = valence.size\n",
    "max_elemVal = valence.max()\n",
    "min_elemVal = valence.min()\n",
    "range_elemVal = max_elemVal - min_elemVal\n",
    "mediaVal=valence.mean()\n",
    "\n",
    "num_elemA = arousal.size\n",
    "max_elemA = arousal.max()\n",
    "min_elemA = arousal.min()\n",
    "range_elemA = max_elemA - min_elemA\n",
    "mediaA=arousal.mean()"
   ]
  },
  {
   "cell_type": "code",
   "execution_count": 10,
   "id": "ff3a9cd3-45f4-4d4b-b77a-8e15465c266d",
   "metadata": {},
   "outputs": [
    {
     "name": "stdout",
     "output_type": "stream",
     "text": [
      "The number of valence samples is 13915 13915\n",
      "valence ar maximum value of  8.53 7.79\n",
      "valence ar minimum value of  1.26 1.6\n",
      "valence ar range is  7.27 6.1899999999999995\n",
      "media val e ar   5.063846927775765 4.210582105641386\n"
     ]
    }
   ],
   "source": [
    "print ('The number of valence samples is', num_elemVal,  num_elemA)\n",
    "print ('valence ar maximum value of ',  max_elemVal,max_elemA)\n",
    "print ('valence ar minimum value of ',  min_elemVal,min_elemA)\n",
    "print ('valence ar range is ', range_elemVal,range_elemA)\n",
    "print ('media val e ar  ', mediaVal,mediaA )"
   ]
  },
  {
   "cell_type": "code",
   "execution_count": 11,
   "id": "a89d8e26-cbb5-4d75-9e4f-7746392193b3",
   "metadata": {},
   "outputs": [],
   "source": [
    "#valenceNormalizzata\n",
    "valenceNormalizzata=[]\n",
    "for i in valence:\n",
    "    z=(i-mediaVal)/range_elemVal \n",
    "    #print(z)\n",
    "    valenceNormalizzata.append(z)"
   ]
  },
  {
   "cell_type": "code",
   "execution_count": 12,
   "id": "6d15a2ff-e6b9-4a1a-af14-1c7edf95f949",
   "metadata": {},
   "outputs": [],
   "source": [
    "#arousal normalizzata\n",
    "arousalNormalizzata=[]\n",
    "for i in arousal:\n",
    "    z=(i-mediaA)/range_elemA\n",
    "    #print(z)\n",
    "    arousalNormalizzata.append(z)"
   ]
  },
  {
   "cell_type": "code",
   "execution_count": 13,
   "id": "6496ab10-52d4-49ca-8708-3e8daa6b3a4e",
   "metadata": {
    "tags": []
   },
   "outputs": [],
   "source": [
    "#valenceNormalizzata"
   ]
  },
  {
   "cell_type": "code",
   "execution_count": 14,
   "id": "7600afc6-16cf-40e4-9ac9-b1755ecf23fa",
   "metadata": {
    "tags": []
   },
   "outputs": [],
   "source": [
    "#arousalNormalizzata"
   ]
  },
  {
   "cell_type": "code",
   "execution_count": 15,
   "id": "63b00da3-b50b-4f13-9815-1037e1e1f8d3",
   "metadata": {},
   "outputs": [],
   "source": [
    "valArous=[]     "
   ]
  },
  {
   "cell_type": "code",
   "execution_count": 16,
   "id": "afe143dc-1ae7-4a5c-aa6b-5da01de0fa7f",
   "metadata": {},
   "outputs": [],
   "source": [
    "for w, v,a in zip(paroleVocabolarioInglese,valenceNormalizzata,arousalNormalizzata):\n",
    "    #print(v,a)\n",
    "    valArous.append([w,v,a])"
   ]
  },
  {
   "cell_type": "code",
   "execution_count": 17,
   "id": "b8f0a6bf-0fd2-465a-8e08-20bcef97fc33",
   "metadata": {
    "tags": []
   },
   "outputs": [],
   "source": [
    "#valArous"
   ]
  },
  {
   "cell_type": "code",
   "execution_count": 18,
   "id": "16b4ba53-f0a0-4916-919d-51cfc28b5ac4",
   "metadata": {},
   "outputs": [
    {
     "name": "stdout",
     "output_type": "stream",
     "text": [
      "[[-0.08030907 -0.11479517]\n",
      " [ 0.26632092  0.10329853]\n",
      " [ 0.21680235 -0.13418128]\n",
      " ...\n",
      " [-0.04317014 -0.06956092]\n",
      " [ 0.26632092  0.22930822]\n",
      " [ 0.10951211  0.23738577]] <class 'numpy.ndarray'> (2849, 2)\n"
     ]
    }
   ],
   "source": [
    "#conservo solo parole contenute nel dizionario\n",
    "valArousRidotto=[]\n",
    "for w in valArous:\n",
    "    if w[0] in vocabulary_words:\n",
    "        #print(w[0])\n",
    "        #diz={'word':w[0],'valence':w[1],'arousal':w[2]}\n",
    "        #print(diz)\n",
    "        valArousRidotto.append(w)\n",
    "#print(valArousRidotto) #per ogni parola c'è valence e arousual ex (mamma -456, 77)\n",
    "\n",
    "input_matrix = list()\n",
    "for member in valArousRidotto:\n",
    "    input_matrix.append(member[1:])\n",
    "\n",
    "va_matrix = numpy.array(input_matrix)\n",
    "print(va_matrix, type(va_matrix), va_matrix.shape)\n"
   ]
  },
  {
   "cell_type": "code",
   "execution_count": 19,
   "id": "03114c3d-541b-4c0c-af66-fa2f5373b97d",
   "metadata": {},
   "outputs": [
    {
     "name": "stdout",
     "output_type": "stream",
     "text": [
      "[-0.08030907  0.26632092  0.21680235 ... -0.06956092  0.22930822\n",
      "  0.23738577] (5698,)\n"
     ]
    }
   ],
   "source": [
    "flattened_va_matrix = va_matrix.flatten(order=\"F\")\n",
    "print(flattened_va_matrix, flattened_va_matrix.shape)\n",
    "\n"
   ]
  },
  {
   "cell_type": "code",
   "execution_count": 20,
   "id": "5051cf21-f1dd-474a-ae21-2c771b400036",
   "metadata": {},
   "outputs": [
    {
     "data": {
      "text/plain": [
       "11396"
      ]
     },
     "execution_count": 20,
     "metadata": {},
     "output_type": "execute_result"
    }
   ],
   "source": [
    "5698*2"
   ]
  },
  {
   "cell_type": "code",
   "execution_count": 21,
   "id": "45d86e8b-05a6-46f8-bfe5-cb896283e996",
   "metadata": {},
   "outputs": [
    {
     "name": "stdout",
     "output_type": "stream",
     "text": [
      "(4613, 11511)\n"
     ]
    }
   ],
   "source": [
    "X=[]\n",
    "#print(flattened_va_matrix)\n",
    "frasi_bow_np=frasi_BoW.toarray()\n",
    "for i in frasi_bow_np:\n",
    "    X.append([*i,*flattened_va_matrix])\n",
    "#X    \n",
    "print(numpy.array(X).shape)\n",
    "    "
   ]
  },
  {
   "cell_type": "code",
   "execution_count": 22,
   "id": "3392b98b-f9cd-420e-98fd-d681e8910bd1",
   "metadata": {},
   "outputs": [],
   "source": [
    "Y=newArray"
   ]
  },
  {
   "cell_type": "code",
   "execution_count": 23,
   "id": "70490992-17f6-40e6-a67e-21617a0b450f",
   "metadata": {
    "tags": []
   },
   "outputs": [],
   "source": [
    ">>> from sklearn.model_selection import cross_val_score\n",
    ">>> from sklearn.tree import DecisionTreeClassifier\n",
    ">>> clf = DecisionTreeClassifier(random_state=0)\n",
    "#>>> cross_val_score(clf, X, Y, cv=10)"
   ]
  },
  {
   "cell_type": "code",
   "execution_count": 24,
   "id": "95577821-1d9a-4e18-a35e-bf65b19616eb",
   "metadata": {},
   "outputs": [],
   "source": [
    "from sklearn.model_selection import train_test_split\n",
    "X_train, X_test, y_train, y_test = train_test_split(X, Y, test_size=0.3, random_state=0)"
   ]
  },
  {
   "cell_type": "code",
   "execution_count": 25,
   "id": "4f1f4757-bdee-42d9-8f34-c7afe35fcbf1",
   "metadata": {},
   "outputs": [],
   "source": [
    ">>> import numpy as np\n",
    ">>> from sklearn.datasets import make_multilabel_classification\n",
    ">>> from sklearn.multioutput import MultiOutputClassifier\n",
    "from sklearn.tree import DecisionTreeClassifier\n"
   ]
  },
  {
   "cell_type": "code",
   "execution_count": 26,
   "id": "78d32a0b-e80c-4ed0-bd35-0fedeb82a948",
   "metadata": {},
   "outputs": [],
   "source": [
    "classificatore = MultiOutputClassifier(DecisionTreeClassifier(random_state=0)).fit(X_train, y_train)"
   ]
  },
  {
   "cell_type": "code",
   "execution_count": 27,
   "id": "b7ffe7a0-21f9-4dd6-b450-9d47d25f886b",
   "metadata": {},
   "outputs": [],
   "source": [
    "y_pred = classificatore.predict(X_test)"
   ]
  },
  {
   "cell_type": "code",
   "execution_count": null,
   "id": "63218e06-cf79-42e0-b625-34fcdf1bc77c",
   "metadata": {},
   "outputs": [],
   "source": [
    "classificatore.score(X_test)"
   ]
  },
  {
   "cell_type": "code",
   "execution_count": 28,
   "id": "63ef0ae2-3fb4-4b51-8cf2-9144bea59d0e",
   "metadata": {},
   "outputs": [],
   "source": [
    "#from sklearn.metrics import accuracy_score\n"
   ]
  },
  {
   "cell_type": "code",
   "execution_count": 29,
   "id": "aac55ca7-b501-4ab3-b169-803ba78ed84d",
   "metadata": {},
   "outputs": [],
   "source": [
    "#from sklearn.model_selection import cross_validate, KFold\n",
    "\n",
    "\n",
    "#scores = cross_validate(classificatore, X_train, y_train, cv=2, scoring=['accuracy'])"
   ]
  },
  {
   "cell_type": "code",
   "execution_count": 26,
   "id": "ac011693-389c-4111-a552-0142789fdb08",
   "metadata": {},
   "outputs": [],
   "source": [
    "from sklearn.metrics import explained_variance_score\n",
    "from sklearn.metrics import mean_absolute_error\n",
    "from sklearn.metrics import mean_squared_error\n",
    "from sklearn.metrics import mean_squared_log_error\n",
    "from sklearn.metrics import mean_absolute_percentage_error\n",
    "from sklearn.metrics import median_absolute_error\n",
    "from sklearn.metrics import r2_score"
   ]
  },
  {
   "cell_type": "code",
   "execution_count": 30,
   "id": "38099e40-4148-4c15-82df-b34f51f73e0a",
   "metadata": {},
   "outputs": [],
   "source": [
    "from sklearn.metrics import explained_variance_score"
   ]
  },
  {
   "cell_type": "code",
   "execution_count": 31,
   "id": "a48a4a14-5baf-4b0e-acc0-67469e156595",
   "metadata": {},
   "outputs": [
    {
     "data": {
      "text/plain": [
       "0.6606749237394158"
      ]
     },
     "execution_count": 31,
     "metadata": {},
     "output_type": "execute_result"
    }
   ],
   "source": [
    "explained_variance_score(y_test, y_pred)"
   ]
  },
  {
   "cell_type": "code",
   "execution_count": 34,
   "id": "6b8ea58e-afc7-4a28-9692-bc0bbd74a361",
   "metadata": {},
   "outputs": [],
   "source": [
    "#from sklearn.metrics import max_error\n",
    "#max_error(y_test, y_pred)\n",
    "#error Multioutput not supported in max_error"
   ]
  },
  {
   "cell_type": "code",
   "execution_count": 35,
   "id": "d22738b0-7284-41c5-adb1-2f9dbeb71137",
   "metadata": {},
   "outputs": [
    {
     "data": {
      "text/plain": [
       "0.0005103669371719158"
      ]
     },
     "execution_count": 35,
     "metadata": {},
     "output_type": "execute_result"
    }
   ],
   "source": [
    "from sklearn.metrics import mean_absolute_error\n",
    "mean_absolute_error(y_test, y_pred)"
   ]
  },
  {
   "cell_type": "code",
   "execution_count": 40,
   "id": "4965e038-17cf-4359-b75a-43abe81adba4",
   "metadata": {},
   "outputs": [
    {
     "data": {
      "text/plain": [
       "0.0005160846378806124"
      ]
     },
     "execution_count": 40,
     "metadata": {},
     "output_type": "execute_result"
    }
   ],
   "source": [
    "from sklearn.metrics import mean_squared_error\n",
    "mean_squared_error(y_test, y_pred)"
   ]
  },
  {
   "cell_type": "code",
   "execution_count": 41,
   "id": "f5aec542-7137-4115-bae9-faf370958279",
   "metadata": {},
   "outputs": [
    {
     "data": {
      "text/plain": [
       "0.0002450711789701944"
      ]
     },
     "execution_count": 41,
     "metadata": {},
     "output_type": "execute_result"
    }
   ],
   "source": [
    "from sklearn.metrics import mean_squared_log_error\n",
    "mean_squared_log_error(y_test, y_pred)"
   ]
  },
  {
   "cell_type": "code",
   "execution_count": 38,
   "id": "59598be9-8014-4926-a3d7-8138f60424cd",
   "metadata": {},
   "outputs": [
    {
     "data": {
      "text/plain": [
       "958356564027.0972"
      ]
     },
     "execution_count": 38,
     "metadata": {},
     "output_type": "execute_result"
    }
   ],
   "source": [
    "from sklearn.metrics import mean_absolute_percentage_error\n",
    "mean_absolute_percentage_error(y_test, y_pred)"
   ]
  },
  {
   "cell_type": "code",
   "execution_count": 42,
   "id": "7f9eb173-dd5a-430a-9b9f-48ea41f1f51a",
   "metadata": {},
   "outputs": [
    {
     "data": {
      "text/plain": [
       "0.0"
      ]
     },
     "execution_count": 42,
     "metadata": {},
     "output_type": "execute_result"
    }
   ],
   "source": [
    "from sklearn.metrics import median_absolute_error\n",
    "median_absolute_error(y_test, y_pred)"
   ]
  },
  {
   "cell_type": "code",
   "execution_count": 43,
   "id": "d10348a9-4e44-4363-8978-ed5cd3a34278",
   "metadata": {},
   "outputs": [
    {
     "data": {
      "text/plain": [
       "0.6604212259583525"
      ]
     },
     "execution_count": 43,
     "metadata": {},
     "output_type": "execute_result"
    }
   ],
   "source": [
    "from sklearn.metrics import r2_score\n",
    "r2_score(y_test, y_pred)"
   ]
  },
  {
   "cell_type": "code",
   "execution_count": 29,
   "id": "87adfe39-6f23-4b94-8d6f-ae3bbb90f7b4",
   "metadata": {},
   "outputs": [],
   "source": [
    "\n",
    "def analizzatore(y_test, y_pred):\n",
    "    print(\"explained_variance_score {}\".format(explained_variance_score(y_test, y_pred)))\n",
    "    print(\"mean_absolute_error {}\".format(mean_absolute_error(y_test, y_pred)))\n",
    "    print(\"mean_squared_error {}\".format(mean_squared_error(y_test, y_pred)))\n",
    "    print(\"mean_squared_log_error {}\".format(mean_squared_log_error(y_test, y_pred)))\n",
    "    print(\"mean_absolute_percentage_error {}\".format(mean_absolute_percentage_error(y_test, y_pred)))\n",
    "    print(\"median_absolute_error {}\".format(median_absolute_error(y_test, y_pred)))\n",
    "    print(\"r2_score {}\".format(r2_score(y_test, y_pred)))\n",
    "    \n",
    "    "
   ]
  },
  {
   "cell_type": "code",
   "execution_count": 56,
   "id": "216f8568-ddd4-4dc2-aac9-53a48011915c",
   "metadata": {},
   "outputs": [
    {
     "name": "stdout",
     "output_type": "stream",
     "text": [
      "explained_variance_score 0.6606749237394158\n",
      "mean_absolute_error 0.0005103669371719158\n",
      "mean_squared_error 0.0005160846378806124\n",
      "mean_squared_log_error 0.0002450711789701944\n",
      "mean_absolute_percentage_error 958356564027.0972\n",
      "median_absolute_error 0.0\n",
      "r2_score 0.6604212259583525\n"
     ]
    }
   ],
   "source": [
    "analizzatore(y_test, y_pred)"
   ]
  },
  {
   "cell_type": "code",
   "execution_count": null,
   "id": "d297cac2-6fe8-4a6c-9164-699cdba09b78",
   "metadata": {},
   "outputs": [],
   "source": [
    "#classificatore = MultiOutputClassifier(DecisionTreeClassifier(random_state=0)).fit(X_train, y_train)\n",
    "#y_pred = classificatore.predict(X_test)"
   ]
  },
  {
   "cell_type": "code",
   "execution_count": 59,
   "id": "50b8d1fe-fa09-4354-a8c6-acd9b5d2b404",
   "metadata": {},
   "outputs": [],
   "source": [
    ">>> from sklearn.ensemble import BaggingClassifier\n",
    ">>> from sklearn.tree import ExtraTreeClassifier\n",
    "classificatore = MultiOutputClassifier(ExtraTreeClassifier(random_state=0)).fit(X_train, y_train)"
   ]
  },
  {
   "cell_type": "code",
   "execution_count": 60,
   "id": "e5d409b4-6ced-427c-8546-c44870e1dd36",
   "metadata": {},
   "outputs": [],
   "source": [
    "y_pred_extraTree = classificatore.predict(X_test)"
   ]
  },
  {
   "cell_type": "code",
   "execution_count": 61,
   "id": "5d442131-a7bd-4a30-a7be-e3de11034620",
   "metadata": {},
   "outputs": [
    {
     "name": "stdout",
     "output_type": "stream",
     "text": [
      "explained_variance_score 0.5188918256164808\n",
      "mean_absolute_error 0.0008066929912921904\n",
      "mean_squared_error 0.0008166368186116626\n",
      "mean_squared_log_error 0.00038852423914901587\n",
      "mean_absolute_percentage_error 1701754646403.2566\n",
      "median_absolute_error 0.0\n",
      "r2_score 0.518438251512855\n"
     ]
    }
   ],
   "source": [
    "analizzatore(y_test, y_pred_extraTree)"
   ]
  },
  {
   "cell_type": "code",
   "execution_count": 62,
   "id": "ee1430cf-660a-4a42-92e6-a082e12a9c61",
   "metadata": {},
   "outputs": [
    {
     "name": "stdout",
     "output_type": "stream",
     "text": [
      "explained_variance_score 0.7186036232467711\n",
      "mean_absolute_error 0.0004769308178101902\n",
      "mean_squared_error 0.0004843886882997944\n",
      "mean_squared_log_error 0.00022992789324964075\n",
      "mean_absolute_percentage_error 9516391114.755524\n",
      "median_absolute_error 0.0\n",
      "r2_score 0.7181417592738855\n"
     ]
    }
   ],
   "source": [
    "from sklearn.ensemble import ExtraTreesClassifier\n",
    "classificatore = MultiOutputClassifier(ExtraTreesClassifier(n_estimators=100, random_state=0)).fit(X_train, y_train)\n",
    "y_pred_extraTrees = classificatore.predict(X_test)\n",
    "analizzatore(y_test, y_pred_extraTrees)"
   ]
  },
  {
   "cell_type": "code",
   "execution_count": 67,
   "id": "34d6bb4b-2cfb-4efd-880e-fd2015f5af26",
   "metadata": {},
   "outputs": [
    {
     "name": "stdout",
     "output_type": "stream",
     "text": [
      "explained_variance_score 0.7158673725746472\n",
      "mean_absolute_error 0.0004892363041180372\n",
      "mean_squared_error 0.0004966941746076414\n",
      "mean_squared_log_error 0.000235840101233975\n",
      "mean_absolute_percentage_error 106919453112.83661\n",
      "median_absolute_error 0.0\n",
      "r2_score 0.7154289513916994\n"
     ]
    }
   ],
   "source": [
    "from sklearn.neighbors import KNeighborsClassifier\n",
    "classificatore = MultiOutputClassifier(KNeighborsClassifier(n_neighbors=3)).fit(X_train, y_train)\n",
    "y_pred_KNeighborsClassifier = classificatore.predict(X_test)\n",
    "analizzatore(y_test, y_pred_KNeighborsClassifier)"
   ]
  },
  {
   "cell_type": "code",
   "execution_count": null,
   "id": "b7732ea2-fe37-42c5-9b8e-db2dd655d373",
   "metadata": {},
   "outputs": [
    {
     "name": "stderr",
     "output_type": "stream",
     "text": [
      "C:\\Users\\giard\\anaconda3\\lib\\site-packages\\sklearn\\neural_network\\_multilayer_perceptron.py:619: UserWarning: Training interrupted by user.\n",
      "  warnings.warn(\"Training interrupted by user.\")\n",
      "C:\\Users\\giard\\anaconda3\\lib\\site-packages\\sklearn\\neural_network\\_multilayer_perceptron.py:619: UserWarning: Training interrupted by user.\n",
      "  warnings.warn(\"Training interrupted by user.\")\n",
      "C:\\Users\\giard\\anaconda3\\lib\\site-packages\\sklearn\\neural_network\\_multilayer_perceptron.py:619: UserWarning: Training interrupted by user.\n",
      "  warnings.warn(\"Training interrupted by user.\")\n"
     ]
    }
   ],
   "source": [
    "from sklearn.neural_network import MLPClassifier\n",
    "classificatore = MultiOutputClassifier(MLPClassifier(random_state=1, max_iter=300)).fit(X_train, y_train)\n",
    "y_pred_MLPClassifier = classificatore.predict(X_test)\n",
    "analizzatore(y_test, y_pred_MLPClassifier)"
   ]
  },
  {
   "cell_type": "code",
   "execution_count": 28,
   "id": "ea19e918-f346-495c-9e0b-a8854c5c6ffc",
   "metadata": {
    "collapsed": true,
    "jupyter": {
     "outputs_hidden": true
    },
    "tags": []
   },
   "outputs": [
    {
     "ename": "NameError",
     "evalue": "name 'analizzatore' is not defined",
     "output_type": "error",
     "traceback": [
      "\u001b[1;31m---------------------------------------------------------------------------\u001b[0m",
      "\u001b[1;31mNameError\u001b[0m                                 Traceback (most recent call last)",
      "\u001b[1;32m<ipython-input-28-ed946009ebed>\u001b[0m in \u001b[0;36m<module>\u001b[1;34m\u001b[0m\n\u001b[0;32m      2\u001b[0m \u001b[0mclassificatore2\u001b[0m \u001b[1;33m=\u001b[0m \u001b[0mMultiOutputClassifier\u001b[0m\u001b[1;33m(\u001b[0m\u001b[0mRandomForestClassifier\u001b[0m\u001b[1;33m(\u001b[0m\u001b[0mmax_depth\u001b[0m\u001b[1;33m=\u001b[0m\u001b[1;36m2\u001b[0m\u001b[1;33m,\u001b[0m \u001b[0mrandom_state\u001b[0m\u001b[1;33m=\u001b[0m\u001b[1;36m0\u001b[0m\u001b[1;33m)\u001b[0m\u001b[1;33m)\u001b[0m\u001b[1;33m.\u001b[0m\u001b[0mfit\u001b[0m\u001b[1;33m(\u001b[0m\u001b[0mX_train\u001b[0m\u001b[1;33m,\u001b[0m \u001b[0my_train\u001b[0m\u001b[1;33m)\u001b[0m\u001b[1;33m\u001b[0m\u001b[1;33m\u001b[0m\u001b[0m\n\u001b[0;32m      3\u001b[0m \u001b[0my_pred_RandomForestClassifier\u001b[0m \u001b[1;33m=\u001b[0m \u001b[0mclassificatore2\u001b[0m\u001b[1;33m.\u001b[0m\u001b[0mpredict\u001b[0m\u001b[1;33m(\u001b[0m\u001b[0mX_test\u001b[0m\u001b[1;33m)\u001b[0m\u001b[1;33m\u001b[0m\u001b[1;33m\u001b[0m\u001b[0m\n\u001b[1;32m----> 4\u001b[1;33m \u001b[0manalizzatore\u001b[0m\u001b[1;33m(\u001b[0m\u001b[0my_test\u001b[0m\u001b[1;33m,\u001b[0m \u001b[0my_pred_RandomForestClassifier\u001b[0m\u001b[1;33m)\u001b[0m\u001b[1;33m\u001b[0m\u001b[1;33m\u001b[0m\u001b[0m\n\u001b[0m",
      "\u001b[1;31mNameError\u001b[0m: name 'analizzatore' is not defined"
     ]
    }
   ],
   "source": [
    "from sklearn.ensemble import RandomForestClassifier\n",
    "classificatore2 = MultiOutputClassifier(RandomForestClassifier(max_depth=2, random_state=0)).fit(X_train, y_train)\n",
    "y_pred_RandomForestClassifier = classificatore2.predict(X_test)\n",
    "analizzatore(y_test, y_pred_RandomForestClassifier)"
   ]
  },
  {
   "cell_type": "code",
   "execution_count": 30,
   "id": "189abfed-800b-4b45-969b-005d53e9b645",
   "metadata": {},
   "outputs": [
    {
     "name": "stdout",
     "output_type": "stream",
     "text": [
      "explained_variance_score 0.7173576466540512\n",
      "mean_absolute_error 0.0004845129861412878\n",
      "mean_squared_error 0.000491970856630892\n",
      "mean_squared_log_error 0.0002335707688763518\n",
      "mean_absolute_percentage_error 0.0004812812422624593\n",
      "median_absolute_error 0.0\n",
      "r2_score 0.7168757353146658\n"
     ]
    }
   ],
   "source": [
    "analizzatore(y_test, y_pred_RandomForestClassifier)"
   ]
  },
  {
   "cell_type": "code",
   "execution_count": 31,
   "id": "6888fd9f-756a-4f8f-9152-a91b80695b2d",
   "metadata": {},
   "outputs": [
    {
     "name": "stdout",
     "output_type": "stream",
     "text": [
      "explained_variance_score 0.7198687182389218\n",
      "mean_absolute_error 0.0004337994668119791\n",
      "mean_squared_error 0.00043553963659288667\n",
      "mean_squared_log_error 0.00020763108622921884\n",
      "mean_absolute_percentage_error 464623801485.1\n",
      "median_absolute_error 0.0\n",
      "r2_score 0.7195326764972703\n"
     ]
    }
   ],
   "source": [
    "from sklearn.linear_model import RidgeClassifierCV\n",
    "classificatore2 = MultiOutputClassifier(RidgeClassifierCV(alphas=[1e-3, 1e-2, 1e-1, 1])).fit(X_train, y_train)\n",
    "y_pred_RidgeClassifierCV = classificatore2.predict(X_test)\n",
    "analizzatore(y_test, y_pred_RidgeClassifierCV)"
   ]
  },
  {
   "cell_type": "code",
   "execution_count": null,
   "id": "ceb559cd-2baf-4fae-9f04-448db27fa1ca",
   "metadata": {},
   "outputs": [],
   "source": []
  }
 ],
 "metadata": {
  "kernelspec": {
   "display_name": "Python 3",
   "language": "python",
   "name": "python3"
  },
  "language_info": {
   "codemirror_mode": {
    "name": "ipython",
    "version": 3
   },
   "file_extension": ".py",
   "mimetype": "text/x-python",
   "name": "python",
   "nbconvert_exporter": "python",
   "pygments_lexer": "ipython3",
   "version": "3.8.8"
  }
 },
 "nbformat": 4,
 "nbformat_minor": 5
}
