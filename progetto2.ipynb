{
 "cells": [
  {
   "cell_type": "code",
   "execution_count": 1,
   "id": "a16ad44f-daad-485e-a294-3229279c16e9",
   "metadata": {},
   "outputs": [
    {
     "data": {
      "text/plain": [
       "4613"
      ]
     },
     "execution_count": 1,
     "metadata": {},
     "output_type": "execute_result"
    }
   ],
   "source": [
    "#rifatto in laboratorio\n",
    "# rifatto con sathya il 20 ottobre\n",
    "import json\n",
    "import numpy\n",
    "from sklearn.feature_extraction.text import CountVectorizer\n",
    "\n",
    "testDataset=json.load(open('test.json'))\n",
    "validDataset=json.load(open('valid.json'))\n",
    "\n",
    "#combined_dataset=[]\n",
    "#for diz in testDataset:\n",
    "#    combined_dataset.append(diz['original_situation'])\n",
    "#for diz in validDataset:\n",
    "#    combined_dataset.append(diz['original_situation'])\n",
    "#dataset combinati, numero di frasi\n",
    "#len(combined_dataset)\n",
    "#combined_dataset\n",
    "i=0\n",
    "combined_dataset={}\n",
    "for diz in testDataset:\n",
    "    combined_dataset[i]=diz\n",
    "   # print(i)\n",
    "    i=i+1\n",
    "for diz in validDataset:\n",
    "    combined_dataset[i]=diz\n",
    "    i=i+1\n",
    "#print(i)   \n",
    "len(combined_dataset)"
   ]
  },
  {
   "cell_type": "code",
   "execution_count": 2,
   "id": "41952a1b-b23c-44ee-9bad-3cb2ef882482",
   "metadata": {},
   "outputs": [
    {
     "name": "stdout",
     "output_type": "stream",
     "text": [
      "Totale parole trovate = 5813\n",
      "\n",
      "(4613, 5813)\n"
     ]
    }
   ],
   "source": [
    "#creo il vocabolario e il bow per le frasi\n",
    "listaFrasi=[]\n",
    "for diz in combined_dataset.values():\n",
    "    listaFrasi.append(diz['original_situation'])\n",
    "   # print(diz)\n",
    "len(listaFrasi)\n",
    "cv = CountVectorizer()\n",
    "count_matrix = cv.fit(listaFrasi) #potevo anche non assegnarlo alla variabile count matrix\n",
    "vocabulary_words = cv.get_feature_names()\n",
    "print('Totale parole trovate = {}\\n'.format(len(vocabulary_words)))\n",
    "#print('lista di parole del vocabolario:\\n\\t{}\\n'.format(vocabulary_words))\n",
    "\n",
    "#creo il bow del dataset\n",
    "frasi_BoW = cv.transform(listaFrasi)\n",
    "print(frasi_BoW.shape)"
   ]
  },
  {
   "cell_type": "code",
   "execution_count": 3,
   "id": "674c2b00-15ab-45ed-b424-4cb2cc3ccd24",
   "metadata": {},
   "outputs": [
    {
     "name": "stdout",
     "output_type": "stream",
     "text": [
      "(4613, 5813)\n"
     ]
    }
   ],
   "source": [
    "#creo il vocabolario e il bow per le parole emotive\n",
    "listaParoleEmotive=[]\n",
    "for diz in combined_dataset.values():\n",
    "    x=\" \".join(diz['labels'])\n",
    "    #print(x)\n",
    "    listaParoleEmotive.append(x)\n",
    "len(listaParoleEmotive)\n",
    "pe_BoW=cv.transform(listaParoleEmotive)\n",
    "\n",
    "print(pe_BoW.shape)"
   ]
  },
  {
   "cell_type": "code",
   "execution_count": 4,
   "id": "356ba05a-2052-49fe-a462-21164c154fdb",
   "metadata": {},
   "outputs": [],
   "source": [
    "newArray=[]\n",
    "pe_BoW_array = pe_BoW.toarray()\n",
    "for row in pe_BoW_array:\n",
    "    riga=[]\n",
    "    for i in row:\n",
    "        if i>1:\n",
    "            riga.append(1)\n",
    "        else:\n",
    "            riga.append(i)\n",
    "    newArray.append(row)\n",
    "    #print(row)\n",
    "#newArray\n",
    "\n"
   ]
  },
  {
   "cell_type": "code",
   "execution_count": 5,
   "id": "30a8c5c3-d833-4ce2-9a8b-195c4e207717",
   "metadata": {},
   "outputs": [
    {
     "name": "stdout",
     "output_type": "stream",
     "text": [
      "  (0, 2166)\t1\n",
      "  (0, 2290)\t1\n",
      "  (0, 4220)\t1\n",
      "rendition\n"
     ]
    }
   ],
   "source": [
    "#print('pe matrix:\\n{}\\n'.format(type(pe_BoW))\n",
    "#print('frasi matrix :\\n{}\\n'.format(frasi_BoW))\n",
    "print(pe_BoW[0])\n",
    "print(vocabulary_words[4220])"
   ]
  },
  {
   "cell_type": "code",
   "execution_count": 6,
   "id": "f0c8a93a-28d2-49ed-ad35-14f2e1a303b6",
   "metadata": {},
   "outputs": [
    {
     "data": {
      "text/html": [
       "<div>\n",
       "<style scoped>\n",
       "    .dataframe tbody tr th:only-of-type {\n",
       "        vertical-align: middle;\n",
       "    }\n",
       "\n",
       "    .dataframe tbody tr th {\n",
       "        vertical-align: top;\n",
       "    }\n",
       "\n",
       "    .dataframe thead th {\n",
       "        text-align: right;\n",
       "    }\n",
       "</style>\n",
       "<table border=\"1\" class=\"dataframe\">\n",
       "  <thead>\n",
       "    <tr style=\"text-align: right;\">\n",
       "      <th></th>\n",
       "      <th>Word</th>\n",
       "      <th>V.Mean.Sum</th>\n",
       "      <th>A.Mean.Sum</th>\n",
       "    </tr>\n",
       "  </thead>\n",
       "  <tbody>\n",
       "    <tr>\n",
       "      <th>0</th>\n",
       "      <td>aardvark</td>\n",
       "      <td>6.26</td>\n",
       "      <td>2.41</td>\n",
       "    </tr>\n",
       "    <tr>\n",
       "      <th>1</th>\n",
       "      <td>abalone</td>\n",
       "      <td>5.30</td>\n",
       "      <td>2.65</td>\n",
       "    </tr>\n",
       "    <tr>\n",
       "      <th>2</th>\n",
       "      <td>abandon</td>\n",
       "      <td>2.84</td>\n",
       "      <td>3.73</td>\n",
       "    </tr>\n",
       "    <tr>\n",
       "      <th>3</th>\n",
       "      <td>abandonment</td>\n",
       "      <td>2.63</td>\n",
       "      <td>4.95</td>\n",
       "    </tr>\n",
       "    <tr>\n",
       "      <th>4</th>\n",
       "      <td>abbey</td>\n",
       "      <td>5.85</td>\n",
       "      <td>2.20</td>\n",
       "    </tr>\n",
       "  </tbody>\n",
       "</table>\n",
       "</div>"
      ],
      "text/plain": [
       "          Word  V.Mean.Sum  A.Mean.Sum\n",
       "0     aardvark        6.26        2.41\n",
       "1      abalone        5.30        2.65\n",
       "2      abandon        2.84        3.73\n",
       "3  abandonment        2.63        4.95\n",
       "4        abbey        5.85        2.20"
      ]
     },
     "execution_count": 6,
     "metadata": {},
     "output_type": "execute_result"
    }
   ],
   "source": [
    "#importo lessico del modello\n",
    "import pandas as pd\n",
    "df=pd.read_csv(r'Ratings_Warriner_et_al.csv',usecols = ['Word','V.Mean.Sum','A.Mean.Sum'])\n",
    "df.head()"
   ]
  },
  {
   "cell_type": "code",
   "execution_count": 7,
   "id": "0f400608-56ac-499b-a142-ca340de573ec",
   "metadata": {},
   "outputs": [
    {
     "data": {
      "text/html": [
       "<div>\n",
       "<style scoped>\n",
       "    .dataframe tbody tr th:only-of-type {\n",
       "        vertical-align: middle;\n",
       "    }\n",
       "\n",
       "    .dataframe tbody tr th {\n",
       "        vertical-align: top;\n",
       "    }\n",
       "\n",
       "    .dataframe thead th {\n",
       "        text-align: right;\n",
       "    }\n",
       "</style>\n",
       "<table border=\"1\" class=\"dataframe\">\n",
       "  <thead>\n",
       "    <tr style=\"text-align: right;\">\n",
       "      <th></th>\n",
       "      <th>Word</th>\n",
       "      <th>V.Mean.Sum</th>\n",
       "      <th>A.Mean.Sum</th>\n",
       "    </tr>\n",
       "  </thead>\n",
       "  <tbody>\n",
       "    <tr>\n",
       "      <th>0</th>\n",
       "      <td>aardvark</td>\n",
       "      <td>6.26</td>\n",
       "      <td>2.41</td>\n",
       "    </tr>\n",
       "  </tbody>\n",
       "</table>\n",
       "</div>"
      ],
      "text/plain": [
       "       Word  V.Mean.Sum  A.Mean.Sum\n",
       "0  aardvark        6.26        2.41"
      ]
     },
     "execution_count": 7,
     "metadata": {},
     "output_type": "execute_result"
    }
   ],
   "source": [
    "df.iloc[[0]]"
   ]
  },
  {
   "cell_type": "code",
   "execution_count": 8,
   "id": "2e5f006b-fdcf-4381-b099-8f20017bd8ea",
   "metadata": {},
   "outputs": [
    {
     "data": {
      "text/plain": [
       "pandas.core.series.Series"
      ]
     },
     "execution_count": 8,
     "metadata": {},
     "output_type": "execute_result"
    }
   ],
   "source": [
    "valence=df['V.Mean.Sum']\n",
    "arousal=df['A.Mean.Sum']\n",
    "paroleVocabolarioInglese=df['Word']\n",
    "type(valence)"
   ]
  },
  {
   "cell_type": "code",
   "execution_count": 9,
   "id": "bcbbe9b8-723e-4c9a-a3df-c0671ebc003d",
   "metadata": {},
   "outputs": [],
   "source": [
    "num_elemVal = valence.size\n",
    "max_elemVal = valence.max()\n",
    "min_elemVal = valence.min()\n",
    "range_elemVal = max_elemVal - min_elemVal\n",
    "mediaVal=valence.mean()\n",
    "\n",
    "num_elemA = arousal.size\n",
    "max_elemA = arousal.max()\n",
    "min_elemA = arousal.min()\n",
    "range_elemA = max_elemA - min_elemA\n",
    "mediaA=arousal.mean()"
   ]
  },
  {
   "cell_type": "code",
   "execution_count": 10,
   "id": "ff3a9cd3-45f4-4d4b-b77a-8e15465c266d",
   "metadata": {},
   "outputs": [
    {
     "name": "stdout",
     "output_type": "stream",
     "text": [
      "The number of valence samples is 13915 13915\n",
      "valence ar maximum value of  8.53 7.79\n",
      "valence ar minimum value of  1.26 1.6\n",
      "valence ar range is  7.27 6.1899999999999995\n",
      "media val e ar   5.063846927775765 4.210582105641386\n"
     ]
    }
   ],
   "source": [
    "print ('The number of valence samples is', num_elemVal,  num_elemA)\n",
    "print ('valence ar maximum value of ',  max_elemVal,max_elemA)\n",
    "print ('valence ar minimum value of ',  min_elemVal,min_elemA)\n",
    "print ('valence ar range is ', range_elemVal,range_elemA)\n",
    "print ('media val e ar  ', mediaVal,mediaA )"
   ]
  },
  {
   "cell_type": "code",
   "execution_count": 11,
   "id": "a89d8e26-cbb5-4d75-9e4f-7746392193b3",
   "metadata": {},
   "outputs": [],
   "source": [
    "#valenceNormalizzata\n",
    "valenceNormalizzata=[]\n",
    "for i in valence:\n",
    "    z=(i-mediaVal)/range_elemVal \n",
    "    #print(z)\n",
    "    valenceNormalizzata.append(z)"
   ]
  },
  {
   "cell_type": "code",
   "execution_count": 12,
   "id": "6d15a2ff-e6b9-4a1a-af14-1c7edf95f949",
   "metadata": {},
   "outputs": [],
   "source": [
    "#arousal normalizzata\n",
    "arousalNormalizzata=[]\n",
    "for i in arousal:\n",
    "    z=(i-mediaA)/range_elemA\n",
    "    #print(z)\n",
    "    arousalNormalizzata.append(z)"
   ]
  },
  {
   "cell_type": "code",
   "execution_count": 13,
   "id": "6496ab10-52d4-49ca-8708-3e8daa6b3a4e",
   "metadata": {
    "tags": []
   },
   "outputs": [],
   "source": [
    "#valenceNormalizzata"
   ]
  },
  {
   "cell_type": "code",
   "execution_count": 14,
   "id": "7600afc6-16cf-40e4-9ac9-b1755ecf23fa",
   "metadata": {
    "tags": []
   },
   "outputs": [],
   "source": [
    "#arousalNormalizzata"
   ]
  },
  {
   "cell_type": "code",
   "execution_count": 15,
   "id": "63b00da3-b50b-4f13-9815-1037e1e1f8d3",
   "metadata": {},
   "outputs": [],
   "source": [
    "valArous=[]     "
   ]
  },
  {
   "cell_type": "code",
   "execution_count": 16,
   "id": "afe143dc-1ae7-4a5c-aa6b-5da01de0fa7f",
   "metadata": {},
   "outputs": [],
   "source": [
    "for w, v,a in zip(paroleVocabolarioInglese,valenceNormalizzata,arousalNormalizzata):\n",
    "    #print(v,a)\n",
    "    valArous.append([w,v,a])"
   ]
  },
  {
   "cell_type": "code",
   "execution_count": 17,
   "id": "b8f0a6bf-0fd2-465a-8e08-20bcef97fc33",
   "metadata": {
    "tags": []
   },
   "outputs": [],
   "source": [
    "#valArous"
   ]
  },
  {
   "cell_type": "code",
   "execution_count": 18,
   "id": "16b4ba53-f0a0-4916-919d-51cfc28b5ac4",
   "metadata": {},
   "outputs": [
    {
     "name": "stdout",
     "output_type": "stream",
     "text": [
      "[[-0.08030907 -0.11479517]\n",
      " [ 0.26632092  0.10329853]\n",
      " [ 0.21680235 -0.13418128]\n",
      " ...\n",
      " [-0.04317014 -0.06956092]\n",
      " [ 0.26632092  0.22930822]\n",
      " [ 0.10951211  0.23738577]] <class 'numpy.ndarray'> (2849, 2)\n"
     ]
    }
   ],
   "source": [
    "#conservo solo parole contenute nel dizionario\n",
    "valArousRidotto=[]\n",
    "for w in valArous:\n",
    "    if w[0] in vocabulary_words:\n",
    "        #print(w[0])\n",
    "        #diz={'word':w[0],'valence':w[1],'arousal':w[2]}\n",
    "        #print(diz)\n",
    "        valArousRidotto.append(w)\n",
    "#print(valArousRidotto) #per ogni parola c'è valence e arousual ex (mamma -456, 77)\n",
    "\n",
    "input_matrix = list()\n",
    "for member in valArousRidotto:\n",
    "    input_matrix.append(member[1:])\n",
    "\n",
    "va_matrix = numpy.array(input_matrix)\n",
    "print(va_matrix, type(va_matrix), va_matrix.shape)\n"
   ]
  },
  {
   "cell_type": "code",
   "execution_count": 19,
   "id": "03114c3d-541b-4c0c-af66-fa2f5373b97d",
   "metadata": {},
   "outputs": [
    {
     "name": "stdout",
     "output_type": "stream",
     "text": [
      "[-0.08030907  0.26632092  0.21680235 ... -0.06956092  0.22930822\n",
      "  0.23738577] (5698,)\n"
     ]
    }
   ],
   "source": [
    "flattened_va_matrix = va_matrix.flatten(order=\"F\")\n",
    "print(flattened_va_matrix, flattened_va_matrix.shape)\n",
    "\n"
   ]
  },
  {
   "cell_type": "code",
   "execution_count": 20,
   "id": "5051cf21-f1dd-474a-ae21-2c771b400036",
   "metadata": {},
   "outputs": [
    {
     "data": {
      "text/plain": [
       "11396"
      ]
     },
     "execution_count": 20,
     "metadata": {},
     "output_type": "execute_result"
    }
   ],
   "source": [
    "5698*2"
   ]
  },
  {
   "cell_type": "code",
   "execution_count": 21,
   "id": "45d86e8b-05a6-46f8-bfe5-cb896283e996",
   "metadata": {},
   "outputs": [
    {
     "name": "stdout",
     "output_type": "stream",
     "text": [
      "(4613, 11511)\n"
     ]
    }
   ],
   "source": [
    "X=[]\n",
    "#print(flattened_va_matrix)\n",
    "frasi_bow_np=frasi_BoW.toarray()\n",
    "for i in frasi_bow_np:\n",
    "    X.append([*i,*flattened_va_matrix])\n",
    "#X    \n",
    "print(numpy.array(X).shape)\n",
    "    "
   ]
  },
  {
   "cell_type": "code",
   "execution_count": 22,
   "id": "3392b98b-f9cd-420e-98fd-d681e8910bd1",
   "metadata": {},
   "outputs": [],
   "source": [
    "Y=newArray"
   ]
  },
  {
   "cell_type": "code",
   "execution_count": 23,
   "id": "70490992-17f6-40e6-a67e-21617a0b450f",
   "metadata": {
    "tags": []
   },
   "outputs": [],
   "source": [
    ">>> from sklearn.model_selection import cross_val_score\n",
    ">>> from sklearn.tree import DecisionTreeClassifier\n",
    ">>> clf = DecisionTreeClassifier(random_state=0)\n",
    "#>>> cross_val_score(clf, X, Y, cv=10)"
   ]
  },
  {
   "cell_type": "code",
   "execution_count": 24,
   "id": "95577821-1d9a-4e18-a35e-bf65b19616eb",
   "metadata": {},
   "outputs": [],
   "source": [
    "from sklearn.model_selection import train_test_split\n",
    "X_train, X_test, y_train, y_test = train_test_split(X, Y, test_size=0.3, random_state=0)"
   ]
  },
  {
   "cell_type": "code",
   "execution_count": 25,
   "id": "4f1f4757-bdee-42d9-8f34-c7afe35fcbf1",
   "metadata": {},
   "outputs": [],
   "source": [
    ">>> import numpy as np\n",
    ">>> from sklearn.datasets import make_multilabel_classification\n",
    ">>> from sklearn.multioutput import MultiOutputClassifier\n",
    "from sklearn.tree import DecisionTreeClassifier\n"
   ]
  },
  {
   "cell_type": "code",
   "execution_count": 26,
   "id": "78d32a0b-e80c-4ed0-bd35-0fedeb82a948",
   "metadata": {},
   "outputs": [],
   "source": [
    "classificatore = MultiOutputClassifier(DecisionTreeClassifier(random_state=0)).fit(X_train, y_train)"
   ]
  },
  {
   "cell_type": "code",
   "execution_count": 27,
   "id": "b7ffe7a0-21f9-4dd6-b450-9d47d25f886b",
   "metadata": {},
   "outputs": [],
   "source": [
    "y_pred = classificatore.predict(X_test)"
   ]
  },
  {
   "cell_type": "code",
   "execution_count": 31,
   "id": "1f02fb54-3347-4a54-812a-5f88a15196b4",
   "metadata": {},
   "outputs": [],
   "source": [
    "X_test_np = np.array( X_test)"
   ]
  },
  {
   "cell_type": "code",
   "execution_count": 32,
   "id": "5dfb0e4a-07fb-491e-959d-4a39029ad405",
   "metadata": {},
   "outputs": [],
   "source": [
    "y_test_np= np.array( y_test)"
   ]
  },
  {
   "cell_type": "code",
   "execution_count": 33,
   "id": "63218e06-cf79-42e0-b625-34fcdf1bc77c",
   "metadata": {},
   "outputs": [
    {
     "data": {
      "text/plain": [
       "0.07803468208092486"
      ]
     },
     "execution_count": 33,
     "metadata": {},
     "output_type": "execute_result"
    }
   ],
   "source": [
    "classificatore.score(X_test_np,y_test_np)"
   ]
  },
  {
   "cell_type": "code",
   "execution_count": 26,
   "id": "ac011693-389c-4111-a552-0142789fdb08",
   "metadata": {},
   "outputs": [],
   "source": [
    "from sklearn.metrics import explained_variance_score\n",
    "from sklearn.metrics import mean_absolute_error\n",
    "from sklearn.metrics import mean_squared_error\n",
    "from sklearn.metrics import mean_squared_log_error\n",
    "from sklearn.metrics import mean_absolute_percentage_error\n",
    "from sklearn.metrics import median_absolute_error\n",
    "from sklearn.metrics import r2_score"
   ]
  },
  {
   "cell_type": "code",
   "execution_count": 29,
   "id": "87adfe39-6f23-4b94-8d6f-ae3bbb90f7b4",
   "metadata": {},
   "outputs": [],
   "source": [
    "\n",
    "def analizzatore(y_test, y_pred):\n",
    "    print(\"explained_variance_score {}\".format(explained_variance_score(y_test, y_pred)))\n",
    "    print(\"mean_absolute_error {}\".format(mean_absolute_error(y_test, y_pred)))\n",
    "    print(\"mean_squared_error {}\".format(mean_squared_error(y_test, y_pred)))\n",
    "    print(\"mean_squared_log_error {}\".format(mean_squared_log_error(y_test, y_pred)))\n",
    "    print(\"mean_absolute_percentage_error {}\".format(mean_absolute_percentage_error(y_test, y_pred)))\n",
    "    print(\"median_absolute_error {}\".format(median_absolute_error(y_test, y_pred)))\n",
    "    print(\"r2_score {}\".format(r2_score(y_test, y_pred)))\n",
    "    \n",
    "    "
   ]
  },
  {
   "cell_type": "code",
   "execution_count": 56,
   "id": "216f8568-ddd4-4dc2-aac9-53a48011915c",
   "metadata": {},
   "outputs": [
    {
     "name": "stdout",
     "output_type": "stream",
     "text": [
      "explained_variance_score 0.6606749237394158\n",
      "mean_absolute_error 0.0005103669371719158\n",
      "mean_squared_error 0.0005160846378806124\n",
      "mean_squared_log_error 0.0002450711789701944\n",
      "mean_absolute_percentage_error 958356564027.0972\n",
      "median_absolute_error 0.0\n",
      "r2_score 0.6604212259583525\n"
     ]
    }
   ],
   "source": [
    "analizzatore(y_test, y_pred)"
   ]
  },
  {
   "cell_type": "code",
   "execution_count": 29,
   "id": "50b8d1fe-fa09-4354-a8c6-acd9b5d2b404",
   "metadata": {},
   "outputs": [],
   "source": [
    ">>> from sklearn.ensemble import BaggingClassifier\n",
    ">>> from sklearn.tree import ExtraTreeClassifier\n",
    "classificatore2 = MultiOutputClassifier(ExtraTreeClassifier(random_state=0)).fit(X_train, y_train)"
   ]
  },
  {
   "cell_type": "code",
   "execution_count": 60,
   "id": "e5d409b4-6ced-427c-8546-c44870e1dd36",
   "metadata": {},
   "outputs": [],
   "source": [
    "y_pred_extraTree = classificatore2.predict(X_test)"
   ]
  },
  {
   "cell_type": "code",
   "execution_count": 61,
   "id": "5d442131-a7bd-4a30-a7be-e3de11034620",
   "metadata": {},
   "outputs": [
    {
     "name": "stdout",
     "output_type": "stream",
     "text": [
      "explained_variance_score 0.5188918256164808\n",
      "mean_absolute_error 0.0008066929912921904\n",
      "mean_squared_error 0.0008166368186116626\n",
      "mean_squared_log_error 0.00038852423914901587\n",
      "mean_absolute_percentage_error 1701754646403.2566\n",
      "median_absolute_error 0.0\n",
      "r2_score 0.518438251512855\n"
     ]
    }
   ],
   "source": [
    "analizzatore(y_test, y_pred_extraTree)"
   ]
  },
  {
   "cell_type": "code",
   "execution_count": 34,
   "id": "a99f1eda-0a22-4e0c-830b-2be22335154b",
   "metadata": {},
   "outputs": [
    {
     "data": {
      "text/plain": [
       "0.011560693641618497"
      ]
     },
     "execution_count": 34,
     "metadata": {},
     "output_type": "execute_result"
    }
   ],
   "source": [
    "classificatore2.score(X_test_np,y_test_np)"
   ]
  },
  {
   "cell_type": "code",
   "execution_count": 36,
   "id": "ee1430cf-660a-4a42-92e6-a082e12a9c61",
   "metadata": {},
   "outputs": [
    {
     "data": {
      "text/plain": [
       "0.008670520231213872"
      ]
     },
     "execution_count": 36,
     "metadata": {},
     "output_type": "execute_result"
    }
   ],
   "source": [
    "from sklearn.ensemble import ExtraTreesClassifier\n",
    "classificatore3 = MultiOutputClassifier(ExtraTreesClassifier(n_estimators=100, random_state=0)).fit(X_train, y_train)\n",
    "#y_pred_extraTrees = classificatore3.predict(X_test)\n",
    "#analizzatore(y_test, y_pred_extraTrees)\n",
    "classificatore3.score(X_test_np,y_test_np)"
   ]
  },
  {
   "cell_type": "code",
   "execution_count": 37,
   "id": "65862715-7a24-4c33-80f4-3b2d3d8edb64",
   "metadata": {},
   "outputs": [
    {
     "data": {
      "text/plain": [
       "0.015895953757225433"
      ]
     },
     "execution_count": 37,
     "metadata": {},
     "output_type": "execute_result"
    }
   ],
   "source": [
    "from sklearn.neighbors import KNeighborsClassifier\n",
    "classificatore4 = MultiOutputClassifier(KNeighborsClassifier(n_neighbors=3)).fit(X_train, y_train)\n",
    "classificatore4.score(X_test_np,y_test_np)"
   ]
  },
  {
   "cell_type": "code",
   "execution_count": 38,
   "id": "02439a62-709a-4657-a4af-2ec93cf68bd8",
   "metadata": {},
   "outputs": [
    {
     "data": {
      "text/plain": [
       "0.000722543352601156"
      ]
     },
     "execution_count": 38,
     "metadata": {},
     "output_type": "execute_result"
    }
   ],
   "source": [
    "from sklearn.ensemble import RandomForestClassifier\n",
    "classificatore5 = MultiOutputClassifier(RandomForestClassifier(max_depth=2, random_state=0)).fit(X_train, y_train)\n",
    "classificatore5.score(X_test_np,y_test_np)"
   ]
  },
  {
   "cell_type": "code",
   "execution_count": 39,
   "id": "ceb559cd-2baf-4fae-9f04-448db27fa1ca",
   "metadata": {},
   "outputs": [
    {
     "ename": "KeyboardInterrupt",
     "evalue": "",
     "output_type": "error",
     "traceback": [
      "\u001b[1;31m---------------------------------------------------------------------------\u001b[0m",
      "\u001b[1;31mKeyboardInterrupt\u001b[0m                         Traceback (most recent call last)",
      "\u001b[1;32m<ipython-input-39-8ac72cc1f141>\u001b[0m in \u001b[0;36m<module>\u001b[1;34m\u001b[0m\n\u001b[0;32m      1\u001b[0m \u001b[1;32mfrom\u001b[0m \u001b[0msklearn\u001b[0m\u001b[1;33m.\u001b[0m\u001b[0mlinear_model\u001b[0m \u001b[1;32mimport\u001b[0m \u001b[0mRidgeClassifierCV\u001b[0m\u001b[1;33m\u001b[0m\u001b[1;33m\u001b[0m\u001b[0m\n\u001b[1;32m----> 2\u001b[1;33m \u001b[0mclassificatore6\u001b[0m \u001b[1;33m=\u001b[0m \u001b[0mMultiOutputClassifier\u001b[0m\u001b[1;33m(\u001b[0m\u001b[0mRidgeClassifierCV\u001b[0m\u001b[1;33m(\u001b[0m\u001b[0malphas\u001b[0m\u001b[1;33m=\u001b[0m\u001b[1;33m[\u001b[0m\u001b[1;36m1e-3\u001b[0m\u001b[1;33m,\u001b[0m \u001b[1;36m1e-2\u001b[0m\u001b[1;33m,\u001b[0m \u001b[1;36m1e-1\u001b[0m\u001b[1;33m,\u001b[0m \u001b[1;36m1\u001b[0m\u001b[1;33m]\u001b[0m\u001b[1;33m)\u001b[0m\u001b[1;33m)\u001b[0m\u001b[1;33m.\u001b[0m\u001b[0mfit\u001b[0m\u001b[1;33m(\u001b[0m\u001b[0mX_train\u001b[0m\u001b[1;33m,\u001b[0m \u001b[0my_train\u001b[0m\u001b[1;33m)\u001b[0m\u001b[1;33m\u001b[0m\u001b[1;33m\u001b[0m\u001b[0m\n\u001b[0m\u001b[0;32m      3\u001b[0m \u001b[0mclassificatore6\u001b[0m\u001b[1;33m.\u001b[0m\u001b[0mscore\u001b[0m\u001b[1;33m(\u001b[0m\u001b[0mX_test_np\u001b[0m\u001b[1;33m,\u001b[0m\u001b[0my_test_np\u001b[0m\u001b[1;33m)\u001b[0m\u001b[1;33m\u001b[0m\u001b[1;33m\u001b[0m\u001b[0m\n",
      "\u001b[1;32m~\\anaconda3\\lib\\site-packages\\sklearn\\multioutput.py\u001b[0m in \u001b[0;36mfit\u001b[1;34m(self, X, Y, sample_weight, **fit_params)\u001b[0m\n\u001b[0;32m    366\u001b[0m         \u001b[0mself\u001b[0m \u001b[1;33m:\u001b[0m \u001b[0mobject\u001b[0m\u001b[1;33m\u001b[0m\u001b[1;33m\u001b[0m\u001b[0m\n\u001b[0;32m    367\u001b[0m         \"\"\"\n\u001b[1;32m--> 368\u001b[1;33m         \u001b[0msuper\u001b[0m\u001b[1;33m(\u001b[0m\u001b[1;33m)\u001b[0m\u001b[1;33m.\u001b[0m\u001b[0mfit\u001b[0m\u001b[1;33m(\u001b[0m\u001b[0mX\u001b[0m\u001b[1;33m,\u001b[0m \u001b[0mY\u001b[0m\u001b[1;33m,\u001b[0m \u001b[0msample_weight\u001b[0m\u001b[1;33m,\u001b[0m \u001b[1;33m**\u001b[0m\u001b[0mfit_params\u001b[0m\u001b[1;33m)\u001b[0m\u001b[1;33m\u001b[0m\u001b[1;33m\u001b[0m\u001b[0m\n\u001b[0m\u001b[0;32m    369\u001b[0m         \u001b[0mself\u001b[0m\u001b[1;33m.\u001b[0m\u001b[0mclasses_\u001b[0m \u001b[1;33m=\u001b[0m \u001b[1;33m[\u001b[0m\u001b[0mestimator\u001b[0m\u001b[1;33m.\u001b[0m\u001b[0mclasses_\u001b[0m \u001b[1;32mfor\u001b[0m \u001b[0mestimator\u001b[0m \u001b[1;32min\u001b[0m \u001b[0mself\u001b[0m\u001b[1;33m.\u001b[0m\u001b[0mestimators_\u001b[0m\u001b[1;33m]\u001b[0m\u001b[1;33m\u001b[0m\u001b[1;33m\u001b[0m\u001b[0m\n\u001b[0;32m    370\u001b[0m         \u001b[1;32mreturn\u001b[0m \u001b[0mself\u001b[0m\u001b[1;33m\u001b[0m\u001b[1;33m\u001b[0m\u001b[0m\n",
      "\u001b[1;32m~\\anaconda3\\lib\\site-packages\\sklearn\\multioutput.py\u001b[0m in \u001b[0;36mfit\u001b[1;34m(self, X, y, sample_weight, **fit_params)\u001b[0m\n\u001b[0;32m    176\u001b[0m         \u001b[0mfit_params_validated\u001b[0m \u001b[1;33m=\u001b[0m \u001b[0m_check_fit_params\u001b[0m\u001b[1;33m(\u001b[0m\u001b[0mX\u001b[0m\u001b[1;33m,\u001b[0m \u001b[0mfit_params\u001b[0m\u001b[1;33m)\u001b[0m\u001b[1;33m\u001b[0m\u001b[1;33m\u001b[0m\u001b[0m\n\u001b[0;32m    177\u001b[0m \u001b[1;33m\u001b[0m\u001b[0m\n\u001b[1;32m--> 178\u001b[1;33m         self.estimators_ = Parallel(n_jobs=self.n_jobs)(\n\u001b[0m\u001b[0;32m    179\u001b[0m             delayed(_fit_estimator)(\n\u001b[0;32m    180\u001b[0m                 \u001b[0mself\u001b[0m\u001b[1;33m.\u001b[0m\u001b[0mestimator\u001b[0m\u001b[1;33m,\u001b[0m \u001b[0mX\u001b[0m\u001b[1;33m,\u001b[0m \u001b[0my\u001b[0m\u001b[1;33m[\u001b[0m\u001b[1;33m:\u001b[0m\u001b[1;33m,\u001b[0m \u001b[0mi\u001b[0m\u001b[1;33m]\u001b[0m\u001b[1;33m,\u001b[0m \u001b[0msample_weight\u001b[0m\u001b[1;33m,\u001b[0m\u001b[1;33m\u001b[0m\u001b[1;33m\u001b[0m\u001b[0m\n",
      "\u001b[1;32m~\\anaconda3\\lib\\site-packages\\joblib\\parallel.py\u001b[0m in \u001b[0;36m__call__\u001b[1;34m(self, iterable)\u001b[0m\n\u001b[0;32m   1042\u001b[0m                 \u001b[0mself\u001b[0m\u001b[1;33m.\u001b[0m\u001b[0m_iterating\u001b[0m \u001b[1;33m=\u001b[0m \u001b[0mself\u001b[0m\u001b[1;33m.\u001b[0m\u001b[0m_original_iterator\u001b[0m \u001b[1;32mis\u001b[0m \u001b[1;32mnot\u001b[0m \u001b[1;32mNone\u001b[0m\u001b[1;33m\u001b[0m\u001b[1;33m\u001b[0m\u001b[0m\n\u001b[0;32m   1043\u001b[0m \u001b[1;33m\u001b[0m\u001b[0m\n\u001b[1;32m-> 1044\u001b[1;33m             \u001b[1;32mwhile\u001b[0m \u001b[0mself\u001b[0m\u001b[1;33m.\u001b[0m\u001b[0mdispatch_one_batch\u001b[0m\u001b[1;33m(\u001b[0m\u001b[0miterator\u001b[0m\u001b[1;33m)\u001b[0m\u001b[1;33m:\u001b[0m\u001b[1;33m\u001b[0m\u001b[1;33m\u001b[0m\u001b[0m\n\u001b[0m\u001b[0;32m   1045\u001b[0m                 \u001b[1;32mpass\u001b[0m\u001b[1;33m\u001b[0m\u001b[1;33m\u001b[0m\u001b[0m\n\u001b[0;32m   1046\u001b[0m \u001b[1;33m\u001b[0m\u001b[0m\n",
      "\u001b[1;32m~\\anaconda3\\lib\\site-packages\\joblib\\parallel.py\u001b[0m in \u001b[0;36mdispatch_one_batch\u001b[1;34m(self, iterator)\u001b[0m\n\u001b[0;32m    857\u001b[0m                 \u001b[1;32mreturn\u001b[0m \u001b[1;32mFalse\u001b[0m\u001b[1;33m\u001b[0m\u001b[1;33m\u001b[0m\u001b[0m\n\u001b[0;32m    858\u001b[0m             \u001b[1;32melse\u001b[0m\u001b[1;33m:\u001b[0m\u001b[1;33m\u001b[0m\u001b[1;33m\u001b[0m\u001b[0m\n\u001b[1;32m--> 859\u001b[1;33m                 \u001b[0mself\u001b[0m\u001b[1;33m.\u001b[0m\u001b[0m_dispatch\u001b[0m\u001b[1;33m(\u001b[0m\u001b[0mtasks\u001b[0m\u001b[1;33m)\u001b[0m\u001b[1;33m\u001b[0m\u001b[1;33m\u001b[0m\u001b[0m\n\u001b[0m\u001b[0;32m    860\u001b[0m                 \u001b[1;32mreturn\u001b[0m \u001b[1;32mTrue\u001b[0m\u001b[1;33m\u001b[0m\u001b[1;33m\u001b[0m\u001b[0m\n\u001b[0;32m    861\u001b[0m \u001b[1;33m\u001b[0m\u001b[0m\n",
      "\u001b[1;32m~\\anaconda3\\lib\\site-packages\\joblib\\parallel.py\u001b[0m in \u001b[0;36m_dispatch\u001b[1;34m(self, batch)\u001b[0m\n\u001b[0;32m    775\u001b[0m         \u001b[1;32mwith\u001b[0m \u001b[0mself\u001b[0m\u001b[1;33m.\u001b[0m\u001b[0m_lock\u001b[0m\u001b[1;33m:\u001b[0m\u001b[1;33m\u001b[0m\u001b[1;33m\u001b[0m\u001b[0m\n\u001b[0;32m    776\u001b[0m             \u001b[0mjob_idx\u001b[0m \u001b[1;33m=\u001b[0m \u001b[0mlen\u001b[0m\u001b[1;33m(\u001b[0m\u001b[0mself\u001b[0m\u001b[1;33m.\u001b[0m\u001b[0m_jobs\u001b[0m\u001b[1;33m)\u001b[0m\u001b[1;33m\u001b[0m\u001b[1;33m\u001b[0m\u001b[0m\n\u001b[1;32m--> 777\u001b[1;33m             \u001b[0mjob\u001b[0m \u001b[1;33m=\u001b[0m \u001b[0mself\u001b[0m\u001b[1;33m.\u001b[0m\u001b[0m_backend\u001b[0m\u001b[1;33m.\u001b[0m\u001b[0mapply_async\u001b[0m\u001b[1;33m(\u001b[0m\u001b[0mbatch\u001b[0m\u001b[1;33m,\u001b[0m \u001b[0mcallback\u001b[0m\u001b[1;33m=\u001b[0m\u001b[0mcb\u001b[0m\u001b[1;33m)\u001b[0m\u001b[1;33m\u001b[0m\u001b[1;33m\u001b[0m\u001b[0m\n\u001b[0m\u001b[0;32m    778\u001b[0m             \u001b[1;31m# A job can complete so quickly than its callback is\u001b[0m\u001b[1;33m\u001b[0m\u001b[1;33m\u001b[0m\u001b[1;33m\u001b[0m\u001b[0m\n\u001b[0;32m    779\u001b[0m             \u001b[1;31m# called before we get here, causing self._jobs to\u001b[0m\u001b[1;33m\u001b[0m\u001b[1;33m\u001b[0m\u001b[1;33m\u001b[0m\u001b[0m\n",
      "\u001b[1;32m~\\anaconda3\\lib\\site-packages\\joblib\\_parallel_backends.py\u001b[0m in \u001b[0;36mapply_async\u001b[1;34m(self, func, callback)\u001b[0m\n\u001b[0;32m    206\u001b[0m     \u001b[1;32mdef\u001b[0m \u001b[0mapply_async\u001b[0m\u001b[1;33m(\u001b[0m\u001b[0mself\u001b[0m\u001b[1;33m,\u001b[0m \u001b[0mfunc\u001b[0m\u001b[1;33m,\u001b[0m \u001b[0mcallback\u001b[0m\u001b[1;33m=\u001b[0m\u001b[1;32mNone\u001b[0m\u001b[1;33m)\u001b[0m\u001b[1;33m:\u001b[0m\u001b[1;33m\u001b[0m\u001b[1;33m\u001b[0m\u001b[0m\n\u001b[0;32m    207\u001b[0m         \u001b[1;34m\"\"\"Schedule a func to be run\"\"\"\u001b[0m\u001b[1;33m\u001b[0m\u001b[1;33m\u001b[0m\u001b[0m\n\u001b[1;32m--> 208\u001b[1;33m         \u001b[0mresult\u001b[0m \u001b[1;33m=\u001b[0m \u001b[0mImmediateResult\u001b[0m\u001b[1;33m(\u001b[0m\u001b[0mfunc\u001b[0m\u001b[1;33m)\u001b[0m\u001b[1;33m\u001b[0m\u001b[1;33m\u001b[0m\u001b[0m\n\u001b[0m\u001b[0;32m    209\u001b[0m         \u001b[1;32mif\u001b[0m \u001b[0mcallback\u001b[0m\u001b[1;33m:\u001b[0m\u001b[1;33m\u001b[0m\u001b[1;33m\u001b[0m\u001b[0m\n\u001b[0;32m    210\u001b[0m             \u001b[0mcallback\u001b[0m\u001b[1;33m(\u001b[0m\u001b[0mresult\u001b[0m\u001b[1;33m)\u001b[0m\u001b[1;33m\u001b[0m\u001b[1;33m\u001b[0m\u001b[0m\n",
      "\u001b[1;32m~\\anaconda3\\lib\\site-packages\\joblib\\_parallel_backends.py\u001b[0m in \u001b[0;36m__init__\u001b[1;34m(self, batch)\u001b[0m\n\u001b[0;32m    570\u001b[0m         \u001b[1;31m# Don't delay the application, to avoid keeping the input\u001b[0m\u001b[1;33m\u001b[0m\u001b[1;33m\u001b[0m\u001b[1;33m\u001b[0m\u001b[0m\n\u001b[0;32m    571\u001b[0m         \u001b[1;31m# arguments in memory\u001b[0m\u001b[1;33m\u001b[0m\u001b[1;33m\u001b[0m\u001b[1;33m\u001b[0m\u001b[0m\n\u001b[1;32m--> 572\u001b[1;33m         \u001b[0mself\u001b[0m\u001b[1;33m.\u001b[0m\u001b[0mresults\u001b[0m \u001b[1;33m=\u001b[0m \u001b[0mbatch\u001b[0m\u001b[1;33m(\u001b[0m\u001b[1;33m)\u001b[0m\u001b[1;33m\u001b[0m\u001b[1;33m\u001b[0m\u001b[0m\n\u001b[0m\u001b[0;32m    573\u001b[0m \u001b[1;33m\u001b[0m\u001b[0m\n\u001b[0;32m    574\u001b[0m     \u001b[1;32mdef\u001b[0m \u001b[0mget\u001b[0m\u001b[1;33m(\u001b[0m\u001b[0mself\u001b[0m\u001b[1;33m)\u001b[0m\u001b[1;33m:\u001b[0m\u001b[1;33m\u001b[0m\u001b[1;33m\u001b[0m\u001b[0m\n",
      "\u001b[1;32m~\\anaconda3\\lib\\site-packages\\joblib\\parallel.py\u001b[0m in \u001b[0;36m__call__\u001b[1;34m(self)\u001b[0m\n\u001b[0;32m    260\u001b[0m         \u001b[1;31m# change the default number of processes to -1\u001b[0m\u001b[1;33m\u001b[0m\u001b[1;33m\u001b[0m\u001b[1;33m\u001b[0m\u001b[0m\n\u001b[0;32m    261\u001b[0m         \u001b[1;32mwith\u001b[0m \u001b[0mparallel_backend\u001b[0m\u001b[1;33m(\u001b[0m\u001b[0mself\u001b[0m\u001b[1;33m.\u001b[0m\u001b[0m_backend\u001b[0m\u001b[1;33m,\u001b[0m \u001b[0mn_jobs\u001b[0m\u001b[1;33m=\u001b[0m\u001b[0mself\u001b[0m\u001b[1;33m.\u001b[0m\u001b[0m_n_jobs\u001b[0m\u001b[1;33m)\u001b[0m\u001b[1;33m:\u001b[0m\u001b[1;33m\u001b[0m\u001b[1;33m\u001b[0m\u001b[0m\n\u001b[1;32m--> 262\u001b[1;33m             return [func(*args, **kwargs)\n\u001b[0m\u001b[0;32m    263\u001b[0m                     for func, args, kwargs in self.items]\n\u001b[0;32m    264\u001b[0m \u001b[1;33m\u001b[0m\u001b[0m\n",
      "\u001b[1;32m~\\anaconda3\\lib\\site-packages\\joblib\\parallel.py\u001b[0m in \u001b[0;36m<listcomp>\u001b[1;34m(.0)\u001b[0m\n\u001b[0;32m    260\u001b[0m         \u001b[1;31m# change the default number of processes to -1\u001b[0m\u001b[1;33m\u001b[0m\u001b[1;33m\u001b[0m\u001b[1;33m\u001b[0m\u001b[0m\n\u001b[0;32m    261\u001b[0m         \u001b[1;32mwith\u001b[0m \u001b[0mparallel_backend\u001b[0m\u001b[1;33m(\u001b[0m\u001b[0mself\u001b[0m\u001b[1;33m.\u001b[0m\u001b[0m_backend\u001b[0m\u001b[1;33m,\u001b[0m \u001b[0mn_jobs\u001b[0m\u001b[1;33m=\u001b[0m\u001b[0mself\u001b[0m\u001b[1;33m.\u001b[0m\u001b[0m_n_jobs\u001b[0m\u001b[1;33m)\u001b[0m\u001b[1;33m:\u001b[0m\u001b[1;33m\u001b[0m\u001b[1;33m\u001b[0m\u001b[0m\n\u001b[1;32m--> 262\u001b[1;33m             return [func(*args, **kwargs)\n\u001b[0m\u001b[0;32m    263\u001b[0m                     for func, args, kwargs in self.items]\n\u001b[0;32m    264\u001b[0m \u001b[1;33m\u001b[0m\u001b[0m\n",
      "\u001b[1;32m~\\anaconda3\\lib\\site-packages\\sklearn\\utils\\fixes.py\u001b[0m in \u001b[0;36m__call__\u001b[1;34m(self, *args, **kwargs)\u001b[0m\n\u001b[0;32m    220\u001b[0m     \u001b[1;32mdef\u001b[0m \u001b[0m__call__\u001b[0m\u001b[1;33m(\u001b[0m\u001b[0mself\u001b[0m\u001b[1;33m,\u001b[0m \u001b[1;33m*\u001b[0m\u001b[0margs\u001b[0m\u001b[1;33m,\u001b[0m \u001b[1;33m**\u001b[0m\u001b[0mkwargs\u001b[0m\u001b[1;33m)\u001b[0m\u001b[1;33m:\u001b[0m\u001b[1;33m\u001b[0m\u001b[1;33m\u001b[0m\u001b[0m\n\u001b[0;32m    221\u001b[0m         \u001b[1;32mwith\u001b[0m \u001b[0mconfig_context\u001b[0m\u001b[1;33m(\u001b[0m\u001b[1;33m**\u001b[0m\u001b[0mself\u001b[0m\u001b[1;33m.\u001b[0m\u001b[0mconfig\u001b[0m\u001b[1;33m)\u001b[0m\u001b[1;33m:\u001b[0m\u001b[1;33m\u001b[0m\u001b[1;33m\u001b[0m\u001b[0m\n\u001b[1;32m--> 222\u001b[1;33m             \u001b[1;32mreturn\u001b[0m \u001b[0mself\u001b[0m\u001b[1;33m.\u001b[0m\u001b[0mfunction\u001b[0m\u001b[1;33m(\u001b[0m\u001b[1;33m*\u001b[0m\u001b[0margs\u001b[0m\u001b[1;33m,\u001b[0m \u001b[1;33m**\u001b[0m\u001b[0mkwargs\u001b[0m\u001b[1;33m)\u001b[0m\u001b[1;33m\u001b[0m\u001b[1;33m\u001b[0m\u001b[0m\n\u001b[0m",
      "\u001b[1;32m~\\anaconda3\\lib\\site-packages\\sklearn\\multioutput.py\u001b[0m in \u001b[0;36m_fit_estimator\u001b[1;34m(estimator, X, y, sample_weight, **fit_params)\u001b[0m\n\u001b[0;32m     39\u001b[0m         \u001b[0mestimator\u001b[0m\u001b[1;33m.\u001b[0m\u001b[0mfit\u001b[0m\u001b[1;33m(\u001b[0m\u001b[0mX\u001b[0m\u001b[1;33m,\u001b[0m \u001b[0my\u001b[0m\u001b[1;33m,\u001b[0m \u001b[0msample_weight\u001b[0m\u001b[1;33m=\u001b[0m\u001b[0msample_weight\u001b[0m\u001b[1;33m,\u001b[0m \u001b[1;33m**\u001b[0m\u001b[0mfit_params\u001b[0m\u001b[1;33m)\u001b[0m\u001b[1;33m\u001b[0m\u001b[1;33m\u001b[0m\u001b[0m\n\u001b[0;32m     40\u001b[0m     \u001b[1;32melse\u001b[0m\u001b[1;33m:\u001b[0m\u001b[1;33m\u001b[0m\u001b[1;33m\u001b[0m\u001b[0m\n\u001b[1;32m---> 41\u001b[1;33m         \u001b[0mestimator\u001b[0m\u001b[1;33m.\u001b[0m\u001b[0mfit\u001b[0m\u001b[1;33m(\u001b[0m\u001b[0mX\u001b[0m\u001b[1;33m,\u001b[0m \u001b[0my\u001b[0m\u001b[1;33m,\u001b[0m \u001b[1;33m**\u001b[0m\u001b[0mfit_params\u001b[0m\u001b[1;33m)\u001b[0m\u001b[1;33m\u001b[0m\u001b[1;33m\u001b[0m\u001b[0m\n\u001b[0m\u001b[0;32m     42\u001b[0m     \u001b[1;32mreturn\u001b[0m \u001b[0mestimator\u001b[0m\u001b[1;33m\u001b[0m\u001b[1;33m\u001b[0m\u001b[0m\n\u001b[0;32m     43\u001b[0m \u001b[1;33m\u001b[0m\u001b[0m\n",
      "\u001b[1;32m~\\anaconda3\\lib\\site-packages\\sklearn\\linear_model\\_ridge.py\u001b[0m in \u001b[0;36mfit\u001b[1;34m(self, X, y, sample_weight)\u001b[0m\n\u001b[0;32m   1955\u001b[0m \u001b[1;33m\u001b[0m\u001b[0m\n\u001b[0;32m   1956\u001b[0m         \u001b[0mtarget\u001b[0m \u001b[1;33m=\u001b[0m \u001b[0mY\u001b[0m \u001b[1;32mif\u001b[0m \u001b[0mself\u001b[0m\u001b[1;33m.\u001b[0m\u001b[0mcv\u001b[0m \u001b[1;32mis\u001b[0m \u001b[1;32mNone\u001b[0m \u001b[1;32melse\u001b[0m \u001b[0my\u001b[0m\u001b[1;33m\u001b[0m\u001b[1;33m\u001b[0m\u001b[0m\n\u001b[1;32m-> 1957\u001b[1;33m         \u001b[0m_BaseRidgeCV\u001b[0m\u001b[1;33m.\u001b[0m\u001b[0mfit\u001b[0m\u001b[1;33m(\u001b[0m\u001b[0mself\u001b[0m\u001b[1;33m,\u001b[0m \u001b[0mX\u001b[0m\u001b[1;33m,\u001b[0m \u001b[0mtarget\u001b[0m\u001b[1;33m,\u001b[0m \u001b[0msample_weight\u001b[0m\u001b[1;33m=\u001b[0m\u001b[0msample_weight\u001b[0m\u001b[1;33m)\u001b[0m\u001b[1;33m\u001b[0m\u001b[1;33m\u001b[0m\u001b[0m\n\u001b[0m\u001b[0;32m   1958\u001b[0m         \u001b[1;32mreturn\u001b[0m \u001b[0mself\u001b[0m\u001b[1;33m\u001b[0m\u001b[1;33m\u001b[0m\u001b[0m\n\u001b[0;32m   1959\u001b[0m \u001b[1;33m\u001b[0m\u001b[0m\n",
      "\u001b[1;32m~\\anaconda3\\lib\\site-packages\\sklearn\\linear_model\\_ridge.py\u001b[0m in \u001b[0;36mfit\u001b[1;34m(self, X, y, sample_weight)\u001b[0m\n\u001b[0;32m   1635\u001b[0m                                   \u001b[0mis_clf\u001b[0m\u001b[1;33m=\u001b[0m\u001b[0mis_classifier\u001b[0m\u001b[1;33m(\u001b[0m\u001b[0mself\u001b[0m\u001b[1;33m)\u001b[0m\u001b[1;33m,\u001b[0m\u001b[1;33m\u001b[0m\u001b[1;33m\u001b[0m\u001b[0m\n\u001b[0;32m   1636\u001b[0m                                   alpha_per_target=self.alpha_per_target)\n\u001b[1;32m-> 1637\u001b[1;33m             \u001b[0mestimator\u001b[0m\u001b[1;33m.\u001b[0m\u001b[0mfit\u001b[0m\u001b[1;33m(\u001b[0m\u001b[0mX\u001b[0m\u001b[1;33m,\u001b[0m \u001b[0my\u001b[0m\u001b[1;33m,\u001b[0m \u001b[0msample_weight\u001b[0m\u001b[1;33m=\u001b[0m\u001b[0msample_weight\u001b[0m\u001b[1;33m)\u001b[0m\u001b[1;33m\u001b[0m\u001b[1;33m\u001b[0m\u001b[0m\n\u001b[0m\u001b[0;32m   1638\u001b[0m             \u001b[0mself\u001b[0m\u001b[1;33m.\u001b[0m\u001b[0malpha_\u001b[0m \u001b[1;33m=\u001b[0m \u001b[0mestimator\u001b[0m\u001b[1;33m.\u001b[0m\u001b[0malpha_\u001b[0m\u001b[1;33m\u001b[0m\u001b[1;33m\u001b[0m\u001b[0m\n\u001b[0;32m   1639\u001b[0m             \u001b[0mself\u001b[0m\u001b[1;33m.\u001b[0m\u001b[0mbest_score_\u001b[0m \u001b[1;33m=\u001b[0m \u001b[0mestimator\u001b[0m\u001b[1;33m.\u001b[0m\u001b[0mbest_score_\u001b[0m\u001b[1;33m\u001b[0m\u001b[1;33m\u001b[0m\u001b[0m\n",
      "\u001b[1;32m~\\anaconda3\\lib\\site-packages\\sklearn\\linear_model\\_ridge.py\u001b[0m in \u001b[0;36mfit\u001b[1;34m(self, X, y, sample_weight)\u001b[0m\n\u001b[0;32m   1495\u001b[0m             \u001b[0msqrt_sw\u001b[0m \u001b[1;33m=\u001b[0m \u001b[0mnp\u001b[0m\u001b[1;33m.\u001b[0m\u001b[0mones\u001b[0m\u001b[1;33m(\u001b[0m\u001b[0mn_samples\u001b[0m\u001b[1;33m,\u001b[0m \u001b[0mdtype\u001b[0m\u001b[1;33m=\u001b[0m\u001b[0mX\u001b[0m\u001b[1;33m.\u001b[0m\u001b[0mdtype\u001b[0m\u001b[1;33m)\u001b[0m\u001b[1;33m\u001b[0m\u001b[1;33m\u001b[0m\u001b[0m\n\u001b[0;32m   1496\u001b[0m \u001b[1;33m\u001b[0m\u001b[0m\n\u001b[1;32m-> 1497\u001b[1;33m         \u001b[0mX_mean\u001b[0m\u001b[1;33m,\u001b[0m \u001b[1;33m*\u001b[0m\u001b[0mdecomposition\u001b[0m \u001b[1;33m=\u001b[0m \u001b[0mdecompose\u001b[0m\u001b[1;33m(\u001b[0m\u001b[0mX\u001b[0m\u001b[1;33m,\u001b[0m \u001b[0my\u001b[0m\u001b[1;33m,\u001b[0m \u001b[0msqrt_sw\u001b[0m\u001b[1;33m)\u001b[0m\u001b[1;33m\u001b[0m\u001b[1;33m\u001b[0m\u001b[0m\n\u001b[0m\u001b[0;32m   1498\u001b[0m \u001b[1;33m\u001b[0m\u001b[0m\n\u001b[0;32m   1499\u001b[0m         \u001b[0mscorer\u001b[0m \u001b[1;33m=\u001b[0m \u001b[0mcheck_scoring\u001b[0m\u001b[1;33m(\u001b[0m\u001b[0mself\u001b[0m\u001b[1;33m,\u001b[0m \u001b[0mscoring\u001b[0m\u001b[1;33m=\u001b[0m\u001b[0mself\u001b[0m\u001b[1;33m.\u001b[0m\u001b[0mscoring\u001b[0m\u001b[1;33m,\u001b[0m \u001b[0mallow_none\u001b[0m\u001b[1;33m=\u001b[0m\u001b[1;32mTrue\u001b[0m\u001b[1;33m)\u001b[0m\u001b[1;33m\u001b[0m\u001b[1;33m\u001b[0m\u001b[0m\n",
      "\u001b[1;32m~\\anaconda3\\lib\\site-packages\\sklearn\\linear_model\\_ridge.py\u001b[0m in \u001b[0;36m_eigen_decompose_gram\u001b[1;34m(self, X, y, sqrt_sw)\u001b[0m\n\u001b[0;32m   1286\u001b[0m             \u001b[1;31m# by centering, it is orthogonal to the other columns\u001b[0m\u001b[1;33m\u001b[0m\u001b[1;33m\u001b[0m\u001b[1;33m\u001b[0m\u001b[0m\n\u001b[0;32m   1287\u001b[0m             \u001b[0mK\u001b[0m \u001b[1;33m+=\u001b[0m \u001b[0mnp\u001b[0m\u001b[1;33m.\u001b[0m\u001b[0mouter\u001b[0m\u001b[1;33m(\u001b[0m\u001b[0msqrt_sw\u001b[0m\u001b[1;33m,\u001b[0m \u001b[0msqrt_sw\u001b[0m\u001b[1;33m)\u001b[0m\u001b[1;33m\u001b[0m\u001b[1;33m\u001b[0m\u001b[0m\n\u001b[1;32m-> 1288\u001b[1;33m         \u001b[0meigvals\u001b[0m\u001b[1;33m,\u001b[0m \u001b[0mQ\u001b[0m \u001b[1;33m=\u001b[0m \u001b[0mlinalg\u001b[0m\u001b[1;33m.\u001b[0m\u001b[0meigh\u001b[0m\u001b[1;33m(\u001b[0m\u001b[0mK\u001b[0m\u001b[1;33m)\u001b[0m\u001b[1;33m\u001b[0m\u001b[1;33m\u001b[0m\u001b[0m\n\u001b[0m\u001b[0;32m   1289\u001b[0m         \u001b[0mQT_y\u001b[0m \u001b[1;33m=\u001b[0m \u001b[0mnp\u001b[0m\u001b[1;33m.\u001b[0m\u001b[0mdot\u001b[0m\u001b[1;33m(\u001b[0m\u001b[0mQ\u001b[0m\u001b[1;33m.\u001b[0m\u001b[0mT\u001b[0m\u001b[1;33m,\u001b[0m \u001b[0my\u001b[0m\u001b[1;33m)\u001b[0m\u001b[1;33m\u001b[0m\u001b[1;33m\u001b[0m\u001b[0m\n\u001b[0;32m   1290\u001b[0m         \u001b[1;32mreturn\u001b[0m \u001b[0mX_mean\u001b[0m\u001b[1;33m,\u001b[0m \u001b[0meigvals\u001b[0m\u001b[1;33m,\u001b[0m \u001b[0mQ\u001b[0m\u001b[1;33m,\u001b[0m \u001b[0mQT_y\u001b[0m\u001b[1;33m\u001b[0m\u001b[1;33m\u001b[0m\u001b[0m\n",
      "\u001b[1;32m~\\anaconda3\\lib\\site-packages\\scipy\\linalg\\decomp.py\u001b[0m in \u001b[0;36meigh\u001b[1;34m(a, b, lower, eigvals_only, overwrite_a, overwrite_b, turbo, eigvals, type, check_finite, subset_by_index, subset_by_value, driver)\u001b[0m\n\u001b[0;32m    543\u001b[0m \u001b[1;33m\u001b[0m\u001b[0m\n\u001b[0;32m    544\u001b[0m         \u001b[0mdrv_args\u001b[0m\u001b[1;33m.\u001b[0m\u001b[0mupdate\u001b[0m\u001b[1;33m(\u001b[0m\u001b[1;33m{\u001b[0m\u001b[1;34m'lower'\u001b[0m\u001b[1;33m:\u001b[0m \u001b[0mlower\u001b[0m\u001b[1;33m,\u001b[0m \u001b[1;34m'compute_v'\u001b[0m\u001b[1;33m:\u001b[0m \u001b[1;36m0\u001b[0m \u001b[1;32mif\u001b[0m \u001b[0m_job\u001b[0m \u001b[1;33m==\u001b[0m \u001b[1;34m\"N\"\u001b[0m \u001b[1;32melse\u001b[0m \u001b[1;36m1\u001b[0m\u001b[1;33m}\u001b[0m\u001b[1;33m)\u001b[0m\u001b[1;33m\u001b[0m\u001b[1;33m\u001b[0m\u001b[0m\n\u001b[1;32m--> 545\u001b[1;33m         \u001b[0mw\u001b[0m\u001b[1;33m,\u001b[0m \u001b[0mv\u001b[0m\u001b[1;33m,\u001b[0m \u001b[1;33m*\u001b[0m\u001b[0mother_args\u001b[0m\u001b[1;33m,\u001b[0m \u001b[0minfo\u001b[0m \u001b[1;33m=\u001b[0m \u001b[0mdrv\u001b[0m\u001b[1;33m(\u001b[0m\u001b[0ma\u001b[0m\u001b[1;33m=\u001b[0m\u001b[0ma1\u001b[0m\u001b[1;33m,\u001b[0m \u001b[1;33m**\u001b[0m\u001b[0mdrv_args\u001b[0m\u001b[1;33m,\u001b[0m \u001b[1;33m**\u001b[0m\u001b[0mlwork_args\u001b[0m\u001b[1;33m)\u001b[0m\u001b[1;33m\u001b[0m\u001b[1;33m\u001b[0m\u001b[0m\n\u001b[0m\u001b[0;32m    546\u001b[0m \u001b[1;33m\u001b[0m\u001b[0m\n\u001b[0;32m    547\u001b[0m     \u001b[1;32melse\u001b[0m\u001b[1;33m:\u001b[0m  \u001b[1;31m# Generalized problem\u001b[0m\u001b[1;33m\u001b[0m\u001b[1;33m\u001b[0m\u001b[0m\n",
      "\u001b[1;31mKeyboardInterrupt\u001b[0m: "
     ]
    }
   ],
   "source": [
    "from sklearn.linear_model import RidgeClassifierCV\n",
    "classificatore6 = MultiOutputClassifier(RidgeClassifierCV(alphas=[1e-3, 1e-2, 1e-1, 1])).fit(X_train, y_train)\n",
    "classificatore6.score(X_test_np,y_test_np)"
   ]
  },
  {
   "cell_type": "code",
   "execution_count": null,
   "id": "748da8c0-888d-4f2d-bf14-816daf574181",
   "metadata": {},
   "outputs": [],
   "source": [
    "#codice che non contiene il metodo score()"
   ]
  },
  {
   "cell_type": "code",
   "execution_count": 67,
   "id": "34d6bb4b-2cfb-4efd-880e-fd2015f5af26",
   "metadata": {},
   "outputs": [
    {
     "name": "stdout",
     "output_type": "stream",
     "text": [
      "explained_variance_score 0.7158673725746472\n",
      "mean_absolute_error 0.0004892363041180372\n",
      "mean_squared_error 0.0004966941746076414\n",
      "mean_squared_log_error 0.000235840101233975\n",
      "mean_absolute_percentage_error 106919453112.83661\n",
      "median_absolute_error 0.0\n",
      "r2_score 0.7154289513916994\n"
     ]
    }
   ],
   "source": [
    "from sklearn.neighbors import KNeighborsClassifier\n",
    "classificatore = MultiOutputClassifier(KNeighborsClassifier(n_neighbors=3)).fit(X_train, y_train)\n",
    "y_pred_KNeighborsClassifier = classificatore.predict(X_test)\n",
    "analizzatore(y_test, y_pred_KNeighborsClassifier)"
   ]
  },
  {
   "cell_type": "code",
   "execution_count": 28,
   "id": "ea19e918-f346-495c-9e0b-a8854c5c6ffc",
   "metadata": {
    "collapsed": true,
    "jupyter": {
     "outputs_hidden": true
    },
    "tags": []
   },
   "outputs": [
    {
     "ename": "NameError",
     "evalue": "name 'analizzatore' is not defined",
     "output_type": "error",
     "traceback": [
      "\u001b[1;31m---------------------------------------------------------------------------\u001b[0m",
      "\u001b[1;31mNameError\u001b[0m                                 Traceback (most recent call last)",
      "\u001b[1;32m<ipython-input-28-ed946009ebed>\u001b[0m in \u001b[0;36m<module>\u001b[1;34m\u001b[0m\n\u001b[0;32m      2\u001b[0m \u001b[0mclassificatore2\u001b[0m \u001b[1;33m=\u001b[0m \u001b[0mMultiOutputClassifier\u001b[0m\u001b[1;33m(\u001b[0m\u001b[0mRandomForestClassifier\u001b[0m\u001b[1;33m(\u001b[0m\u001b[0mmax_depth\u001b[0m\u001b[1;33m=\u001b[0m\u001b[1;36m2\u001b[0m\u001b[1;33m,\u001b[0m \u001b[0mrandom_state\u001b[0m\u001b[1;33m=\u001b[0m\u001b[1;36m0\u001b[0m\u001b[1;33m)\u001b[0m\u001b[1;33m)\u001b[0m\u001b[1;33m.\u001b[0m\u001b[0mfit\u001b[0m\u001b[1;33m(\u001b[0m\u001b[0mX_train\u001b[0m\u001b[1;33m,\u001b[0m \u001b[0my_train\u001b[0m\u001b[1;33m)\u001b[0m\u001b[1;33m\u001b[0m\u001b[1;33m\u001b[0m\u001b[0m\n\u001b[0;32m      3\u001b[0m \u001b[0my_pred_RandomForestClassifier\u001b[0m \u001b[1;33m=\u001b[0m \u001b[0mclassificatore2\u001b[0m\u001b[1;33m.\u001b[0m\u001b[0mpredict\u001b[0m\u001b[1;33m(\u001b[0m\u001b[0mX_test\u001b[0m\u001b[1;33m)\u001b[0m\u001b[1;33m\u001b[0m\u001b[1;33m\u001b[0m\u001b[0m\n\u001b[1;32m----> 4\u001b[1;33m \u001b[0manalizzatore\u001b[0m\u001b[1;33m(\u001b[0m\u001b[0my_test\u001b[0m\u001b[1;33m,\u001b[0m \u001b[0my_pred_RandomForestClassifier\u001b[0m\u001b[1;33m)\u001b[0m\u001b[1;33m\u001b[0m\u001b[1;33m\u001b[0m\u001b[0m\n\u001b[0m",
      "\u001b[1;31mNameError\u001b[0m: name 'analizzatore' is not defined"
     ]
    }
   ],
   "source": [
    "from sklearn.ensemble import RandomForestClassifier\n",
    "classificatore2 = MultiOutputClassifier(RandomForestClassifier(max_depth=2, random_state=0)).fit(X_train, y_train)\n",
    "y_pred_RandomForestClassifier = classificatore2.predict(X_test)\n",
    "analizzatore(y_test, y_pred_RandomForestClassifier)"
   ]
  },
  {
   "cell_type": "code",
   "execution_count": 30,
   "id": "189abfed-800b-4b45-969b-005d53e9b645",
   "metadata": {},
   "outputs": [
    {
     "name": "stdout",
     "output_type": "stream",
     "text": [
      "explained_variance_score 0.7173576466540512\n",
      "mean_absolute_error 0.0004845129861412878\n",
      "mean_squared_error 0.000491970856630892\n",
      "mean_squared_log_error 0.0002335707688763518\n",
      "mean_absolute_percentage_error 0.0004812812422624593\n",
      "median_absolute_error 0.0\n",
      "r2_score 0.7168757353146658\n"
     ]
    }
   ],
   "source": [
    "analizzatore(y_test, y_pred_RandomForestClassifier)"
   ]
  },
  {
   "cell_type": "code",
   "execution_count": 31,
   "id": "6888fd9f-756a-4f8f-9152-a91b80695b2d",
   "metadata": {},
   "outputs": [
    {
     "name": "stdout",
     "output_type": "stream",
     "text": [
      "explained_variance_score 0.7198687182389218\n",
      "mean_absolute_error 0.0004337994668119791\n",
      "mean_squared_error 0.00043553963659288667\n",
      "mean_squared_log_error 0.00020763108622921884\n",
      "mean_absolute_percentage_error 464623801485.1\n",
      "median_absolute_error 0.0\n",
      "r2_score 0.7195326764972703\n"
     ]
    }
   ],
   "source": [
    "from sklearn.linear_model import RidgeClassifierCV\n",
    "classificatore2 = MultiOutputClassifier(RidgeClassifierCV(alphas=[1e-3, 1e-2, 1e-1, 1])).fit(X_train, y_train)\n",
    "y_pred_RidgeClassifierCV = classificatore2.predict(X_test)\n",
    "analizzatore(y_test, y_pred_RidgeClassifierCV)"
   ]
  }
 ],
 "metadata": {
  "kernelspec": {
   "display_name": "Python 3",
   "language": "python",
   "name": "python3"
  },
  "language_info": {
   "codemirror_mode": {
    "name": "ipython",
    "version": 3
   },
   "file_extension": ".py",
   "mimetype": "text/x-python",
   "name": "python",
   "nbconvert_exporter": "python",
   "pygments_lexer": "ipython3",
   "version": "3.8.8"
  }
 },
 "nbformat": 4,
 "nbformat_minor": 5
}
