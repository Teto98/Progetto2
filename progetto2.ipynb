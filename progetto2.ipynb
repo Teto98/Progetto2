{
 "cells": [
  {
   "cell_type": "code",
   "execution_count": 1,
   "id": "a16ad44f-daad-485e-a294-3229279c16e9",
   "metadata": {},
   "outputs": [
    {
     "data": {
      "text/plain": [
       "4613"
      ]
     },
     "execution_count": 1,
     "metadata": {},
     "output_type": "execute_result"
    }
   ],
   "source": [
    "#rifatto in laboratorio\n",
    "# rifatto con sathya il 20 ottobre\n",
    "import json\n",
    "import numpy\n",
    "from sklearn.feature_extraction.text import CountVectorizer\n",
    "\n",
    "testDataset=json.load(open('test.json'))\n",
    "validDataset=json.load(open('valid.json'))\n",
    "\n",
    "#combined_dataset=[]\n",
    "#for diz in testDataset:\n",
    "#    combined_dataset.append(diz['original_situation'])\n",
    "#for diz in validDataset:\n",
    "#    combined_dataset.append(diz['original_situation'])\n",
    "#dataset combinati, numero di frasi\n",
    "#len(combined_dataset)\n",
    "#combined_dataset\n",
    "i=0\n",
    "combined_dataset={}\n",
    "for diz in testDataset:\n",
    "    combined_dataset[i]=diz\n",
    "   # print(i)\n",
    "    i=i+1\n",
    "for diz in validDataset:\n",
    "    combined_dataset[i]=diz\n",
    "    i=i+1\n",
    "#print(i)   \n",
    "len(combined_dataset)"
   ]
  },
  {
   "cell_type": "code",
   "execution_count": 2,
   "id": "41952a1b-b23c-44ee-9bad-3cb2ef882482",
   "metadata": {},
   "outputs": [
    {
     "name": "stdout",
     "output_type": "stream",
     "text": [
      "Totale parole trovate = 5813\n",
      "\n",
      "(4613, 5813)\n"
     ]
    }
   ],
   "source": [
    "#creo il vocabolario e il bow per le frasi\n",
    "listaFrasi=[]\n",
    "for diz in combined_dataset.values():\n",
    "    listaFrasi.append(diz['original_situation'])\n",
    "   # print(diz)\n",
    "len(listaFrasi)\n",
    "cv = CountVectorizer()\n",
    "count_matrix = cv.fit(listaFrasi) #potevo anche non assegnarlo alla variabile count matrix\n",
    "vocabulary_words = cv.get_feature_names()\n",
    "print('Totale parole trovate = {}\\n'.format(len(vocabulary_words)))\n",
    "#print('lista di parole del vocabolario:\\n\\t{}\\n'.format(vocabulary_words))\n",
    "\n",
    "#creo il bow del dataset\n",
    "frasi_BoW = cv.transform(listaFrasi)\n",
    "print(frasi_BoW.shape)"
   ]
  },
  {
   "cell_type": "code",
   "execution_count": 3,
   "id": "674c2b00-15ab-45ed-b424-4cb2cc3ccd24",
   "metadata": {},
   "outputs": [
    {
     "name": "stdout",
     "output_type": "stream",
     "text": [
      "(4613, 5813)\n"
     ]
    }
   ],
   "source": [
    "#creo il vocabolario e il bow per le parole emotive\n",
    "listaParoleEmotive=[]\n",
    "for diz in combined_dataset.values():\n",
    "    x=\" \".join(diz['labels'])\n",
    "    #print(x)\n",
    "    listaParoleEmotive.append(x)\n",
    "len(listaParoleEmotive)\n",
    "pe_BoW=cv.transform(listaParoleEmotive)\n",
    "\n",
    "print(pe_BoW.shape)"
   ]
  },
  {
   "cell_type": "code",
   "execution_count": 4,
   "id": "356ba05a-2052-49fe-a462-21164c154fdb",
   "metadata": {},
   "outputs": [],
   "source": [
    "newArray=[]\n",
    "pe_BoW_array = pe_BoW.toarray()\n",
    "for row in pe_BoW_array:\n",
    "    riga=[]\n",
    "    for i in row:\n",
    "        if i>1:\n",
    "            riga.append(1)\n",
    "        else:\n",
    "            riga.append(i)\n",
    "    newArray.append(row)\n",
    "    #print(row)\n",
    "#newArray\n",
    "\n"
   ]
  },
  {
   "cell_type": "code",
   "execution_count": 5,
   "id": "30a8c5c3-d833-4ce2-9a8b-195c4e207717",
   "metadata": {},
   "outputs": [
    {
     "name": "stdout",
     "output_type": "stream",
     "text": [
      "  (0, 2166)\t1\n",
      "  (0, 2290)\t1\n",
      "  (0, 4220)\t1\n",
      "rendition\n"
     ]
    }
   ],
   "source": [
    "#print('pe matrix:\\n{}\\n'.format(type(pe_BoW))\n",
    "#print('frasi matrix :\\n{}\\n'.format(frasi_BoW))\n",
    "print(pe_BoW[0])\n",
    "print(vocabulary_words[4220])"
   ]
  },
  {
   "cell_type": "code",
   "execution_count": 6,
   "id": "f0c8a93a-28d2-49ed-ad35-14f2e1a303b6",
   "metadata": {},
   "outputs": [
    {
     "data": {
      "text/html": [
       "<div>\n",
       "<style scoped>\n",
       "    .dataframe tbody tr th:only-of-type {\n",
       "        vertical-align: middle;\n",
       "    }\n",
       "\n",
       "    .dataframe tbody tr th {\n",
       "        vertical-align: top;\n",
       "    }\n",
       "\n",
       "    .dataframe thead th {\n",
       "        text-align: right;\n",
       "    }\n",
       "</style>\n",
       "<table border=\"1\" class=\"dataframe\">\n",
       "  <thead>\n",
       "    <tr style=\"text-align: right;\">\n",
       "      <th></th>\n",
       "      <th>Word</th>\n",
       "      <th>V.Mean.Sum</th>\n",
       "      <th>A.Mean.Sum</th>\n",
       "    </tr>\n",
       "  </thead>\n",
       "  <tbody>\n",
       "    <tr>\n",
       "      <th>0</th>\n",
       "      <td>aardvark</td>\n",
       "      <td>6.26</td>\n",
       "      <td>2.41</td>\n",
       "    </tr>\n",
       "    <tr>\n",
       "      <th>1</th>\n",
       "      <td>abalone</td>\n",
       "      <td>5.30</td>\n",
       "      <td>2.65</td>\n",
       "    </tr>\n",
       "    <tr>\n",
       "      <th>2</th>\n",
       "      <td>abandon</td>\n",
       "      <td>2.84</td>\n",
       "      <td>3.73</td>\n",
       "    </tr>\n",
       "    <tr>\n",
       "      <th>3</th>\n",
       "      <td>abandonment</td>\n",
       "      <td>2.63</td>\n",
       "      <td>4.95</td>\n",
       "    </tr>\n",
       "    <tr>\n",
       "      <th>4</th>\n",
       "      <td>abbey</td>\n",
       "      <td>5.85</td>\n",
       "      <td>2.20</td>\n",
       "    </tr>\n",
       "  </tbody>\n",
       "</table>\n",
       "</div>"
      ],
      "text/plain": [
       "          Word  V.Mean.Sum  A.Mean.Sum\n",
       "0     aardvark        6.26        2.41\n",
       "1      abalone        5.30        2.65\n",
       "2      abandon        2.84        3.73\n",
       "3  abandonment        2.63        4.95\n",
       "4        abbey        5.85        2.20"
      ]
     },
     "execution_count": 6,
     "metadata": {},
     "output_type": "execute_result"
    }
   ],
   "source": [
    "#importo lessico del modello\n",
    "import pandas as pd\n",
    "df=pd.read_csv(r'Ratings_Warriner_et_al.csv',usecols = ['Word','V.Mean.Sum','A.Mean.Sum'])\n",
    "df.head()"
   ]
  },
  {
   "cell_type": "code",
   "execution_count": 7,
   "id": "0f400608-56ac-499b-a142-ca340de573ec",
   "metadata": {},
   "outputs": [
    {
     "data": {
      "text/html": [
       "<div>\n",
       "<style scoped>\n",
       "    .dataframe tbody tr th:only-of-type {\n",
       "        vertical-align: middle;\n",
       "    }\n",
       "\n",
       "    .dataframe tbody tr th {\n",
       "        vertical-align: top;\n",
       "    }\n",
       "\n",
       "    .dataframe thead th {\n",
       "        text-align: right;\n",
       "    }\n",
       "</style>\n",
       "<table border=\"1\" class=\"dataframe\">\n",
       "  <thead>\n",
       "    <tr style=\"text-align: right;\">\n",
       "      <th></th>\n",
       "      <th>Word</th>\n",
       "      <th>V.Mean.Sum</th>\n",
       "      <th>A.Mean.Sum</th>\n",
       "    </tr>\n",
       "  </thead>\n",
       "  <tbody>\n",
       "    <tr>\n",
       "      <th>0</th>\n",
       "      <td>aardvark</td>\n",
       "      <td>6.26</td>\n",
       "      <td>2.41</td>\n",
       "    </tr>\n",
       "  </tbody>\n",
       "</table>\n",
       "</div>"
      ],
      "text/plain": [
       "       Word  V.Mean.Sum  A.Mean.Sum\n",
       "0  aardvark        6.26        2.41"
      ]
     },
     "execution_count": 7,
     "metadata": {},
     "output_type": "execute_result"
    }
   ],
   "source": [
    "df.iloc[[0]]"
   ]
  },
  {
   "cell_type": "code",
   "execution_count": 8,
   "id": "2e5f006b-fdcf-4381-b099-8f20017bd8ea",
   "metadata": {},
   "outputs": [
    {
     "data": {
      "text/plain": [
       "pandas.core.series.Series"
      ]
     },
     "execution_count": 8,
     "metadata": {},
     "output_type": "execute_result"
    }
   ],
   "source": [
    "valence=df['V.Mean.Sum']\n",
    "arousal=df['A.Mean.Sum']\n",
    "paroleVocabolarioInglese=df['Word']\n",
    "type(valence)"
   ]
  },
  {
   "cell_type": "code",
   "execution_count": 9,
   "id": "bcbbe9b8-723e-4c9a-a3df-c0671ebc003d",
   "metadata": {},
   "outputs": [],
   "source": [
    "num_elemVal = valence.size\n",
    "max_elemVal = valence.max()\n",
    "min_elemVal = valence.min()\n",
    "range_elemVal = max_elemVal - min_elemVal\n",
    "mediaVal=valence.mean()\n",
    "\n",
    "num_elemA = arousal.size\n",
    "max_elemA = arousal.max()\n",
    "min_elemA = arousal.min()\n",
    "range_elemA = max_elemA - min_elemA\n",
    "mediaA=arousal.mean()"
   ]
  },
  {
   "cell_type": "code",
   "execution_count": 10,
   "id": "ff3a9cd3-45f4-4d4b-b77a-8e15465c266d",
   "metadata": {},
   "outputs": [
    {
     "name": "stdout",
     "output_type": "stream",
     "text": [
      "The number of valence samples is 13915 13915\n",
      "valence ar maximum value of  8.53 7.79\n",
      "valence ar minimum value of  1.26 1.6\n",
      "valence ar range is  7.27 6.1899999999999995\n",
      "media val e ar   5.063846927775765 4.210582105641386\n"
     ]
    }
   ],
   "source": [
    "print ('The number of valence samples is', num_elemVal,  num_elemA)\n",
    "print ('valence ar maximum value of ',  max_elemVal,max_elemA)\n",
    "print ('valence ar minimum value of ',  min_elemVal,min_elemA)\n",
    "print ('valence ar range is ', range_elemVal,range_elemA)\n",
    "print ('media val e ar  ', mediaVal,mediaA )"
   ]
  },
  {
   "cell_type": "code",
   "execution_count": 11,
   "id": "a89d8e26-cbb5-4d75-9e4f-7746392193b3",
   "metadata": {},
   "outputs": [],
   "source": [
    "#valenceNormalizzata\n",
    "valenceNormalizzata=[]\n",
    "for i in valence:\n",
    "    z=(i-mediaVal)/range_elemVal \n",
    "    #print(z)\n",
    "    valenceNormalizzata.append(z)"
   ]
  },
  {
   "cell_type": "code",
   "execution_count": 12,
   "id": "6d15a2ff-e6b9-4a1a-af14-1c7edf95f949",
   "metadata": {},
   "outputs": [],
   "source": [
    "#arousal normalizzata\n",
    "arousalNormalizzata=[]\n",
    "for i in arousal:\n",
    "    z=(i-mediaA)/range_elemA\n",
    "    #print(z)\n",
    "    arousalNormalizzata.append(z)"
   ]
  },
  {
   "cell_type": "code",
   "execution_count": 13,
   "id": "6496ab10-52d4-49ca-8708-3e8daa6b3a4e",
   "metadata": {
    "tags": []
   },
   "outputs": [],
   "source": [
    "#valenceNormalizzata"
   ]
  },
  {
   "cell_type": "code",
   "execution_count": 14,
   "id": "7600afc6-16cf-40e4-9ac9-b1755ecf23fa",
   "metadata": {
    "tags": []
   },
   "outputs": [],
   "source": [
    "#arousalNormalizzata"
   ]
  },
  {
   "cell_type": "code",
   "execution_count": 15,
   "id": "63b00da3-b50b-4f13-9815-1037e1e1f8d3",
   "metadata": {},
   "outputs": [],
   "source": [
    "valArous=[]     "
   ]
  },
  {
   "cell_type": "code",
   "execution_count": 16,
   "id": "afe143dc-1ae7-4a5c-aa6b-5da01de0fa7f",
   "metadata": {},
   "outputs": [],
   "source": [
    "for w, v,a in zip(paroleVocabolarioInglese,valenceNormalizzata,arousalNormalizzata):\n",
    "    #print(v,a)\n",
    "    valArous.append([w,v,a])"
   ]
  },
  {
   "cell_type": "code",
   "execution_count": 17,
   "id": "b8f0a6bf-0fd2-465a-8e08-20bcef97fc33",
   "metadata": {
    "tags": []
   },
   "outputs": [],
   "source": [
    "#valArous"
   ]
  },
  {
   "cell_type": "code",
   "execution_count": 18,
   "id": "16b4ba53-f0a0-4916-919d-51cfc28b5ac4",
   "metadata": {},
   "outputs": [
    {
     "name": "stdout",
     "output_type": "stream",
     "text": [
      "[[-0.08030907 -0.11479517]\n",
      " [ 0.26632092  0.10329853]\n",
      " [ 0.21680235 -0.13418128]\n",
      " ...\n",
      " [-0.04317014 -0.06956092]\n",
      " [ 0.26632092  0.22930822]\n",
      " [ 0.10951211  0.23738577]] <class 'numpy.ndarray'> (2849, 2)\n"
     ]
    }
   ],
   "source": [
    "#conservo solo parole contenute nel dizionario\n",
    "valArousRidotto=[]\n",
    "for w in valArous:\n",
    "    if w[0] in vocabulary_words:\n",
    "        #print(w[0])\n",
    "        #diz={'word':w[0],'valence':w[1],'arousal':w[2]}\n",
    "        #print(diz)\n",
    "        valArousRidotto.append(w)\n",
    "#print(valArousRidotto) #per ogni parola c'è valence e arousual ex (mamma -456, 77)\n",
    "\n",
    "input_matrix = list()\n",
    "for member in valArousRidotto:\n",
    "    input_matrix.append(member[1:])\n",
    "\n",
    "va_matrix = numpy.array(input_matrix)\n",
    "print(va_matrix, type(va_matrix), va_matrix.shape)\n"
   ]
  },
  {
   "cell_type": "code",
   "execution_count": 19,
   "id": "03114c3d-541b-4c0c-af66-fa2f5373b97d",
   "metadata": {},
   "outputs": [
    {
     "name": "stdout",
     "output_type": "stream",
     "text": [
      "[-0.08030907  0.26632092  0.21680235 ... -0.06956092  0.22930822\n",
      "  0.23738577] (5698,)\n"
     ]
    }
   ],
   "source": [
    "flattened_va_matrix = va_matrix.flatten(order=\"F\")\n",
    "print(flattened_va_matrix, flattened_va_matrix.shape)\n",
    "\n"
   ]
  },
  {
   "cell_type": "code",
   "execution_count": 20,
   "id": "5051cf21-f1dd-474a-ae21-2c771b400036",
   "metadata": {},
   "outputs": [
    {
     "data": {
      "text/plain": [
       "11396"
      ]
     },
     "execution_count": 20,
     "metadata": {},
     "output_type": "execute_result"
    }
   ],
   "source": [
    "5698*2"
   ]
  },
  {
   "cell_type": "code",
   "execution_count": 21,
   "id": "45d86e8b-05a6-46f8-bfe5-cb896283e996",
   "metadata": {},
   "outputs": [
    {
     "name": "stdout",
     "output_type": "stream",
     "text": [
      "(4613, 11511)\n"
     ]
    }
   ],
   "source": [
    "X=[]\n",
    "#print(flattened_va_matrix)\n",
    "frasi_bow_np=frasi_BoW.toarray()\n",
    "for i in frasi_bow_np:\n",
    "    X.append([*i,*flattened_va_matrix])\n",
    "#X    \n",
    "print(numpy.array(X).shape)\n",
    "    "
   ]
  },
  {
   "cell_type": "code",
   "execution_count": 22,
   "id": "3392b98b-f9cd-420e-98fd-d681e8910bd1",
   "metadata": {},
   "outputs": [],
   "source": [
    "Y=newArray"
   ]
  },
  {
   "cell_type": "code",
   "execution_count": 23,
   "id": "70490992-17f6-40e6-a67e-21617a0b450f",
   "metadata": {
    "tags": []
   },
   "outputs": [],
   "source": [
    ">>> from sklearn.model_selection import cross_val_score\n",
    ">>> from sklearn.tree import DecisionTreeClassifier\n",
    ">>> clf = DecisionTreeClassifier(random_state=0)\n",
    "#>>> cross_val_score(clf, X, Y, cv=10)"
   ]
  },
  {
   "cell_type": "code",
   "execution_count": 25,
   "id": "95577821-1d9a-4e18-a35e-bf65b19616eb",
   "metadata": {},
   "outputs": [],
   "source": [
    "from sklearn.model_selection import train_test_split\n",
    "X_train, X_test, y_train, y_test = train_test_split(X, Y, test_size=0.3, random_state=0)"
   ]
  },
  {
   "cell_type": "code",
   "execution_count": 29,
   "id": "4f1f4757-bdee-42d9-8f34-c7afe35fcbf1",
   "metadata": {},
   "outputs": [],
   "source": [
    ">>> import numpy as np\n",
    ">>> from sklearn.datasets import make_multilabel_classification\n",
    ">>> from sklearn.multioutput import MultiOutputClassifier\n",
    "from sklearn.tree import DecisionTreeClassifier\n"
   ]
  },
  {
   "cell_type": "code",
   "execution_count": 30,
   "id": "78d32a0b-e80c-4ed0-bd35-0fedeb82a948",
   "metadata": {},
   "outputs": [],
   "source": [
    "classificatore = MultiOutputClassifier(DecisionTreeClassifier(random_state=0)).fit(X_train, y_train)"
   ]
  },
  {
   "cell_type": "code",
   "execution_count": 31,
   "id": "b7ffe7a0-21f9-4dd6-b450-9d47d25f886b",
   "metadata": {},
   "outputs": [],
   "source": [
    "y_pred = classificatore.predict(X_test)"
   ]
  },
  {
   "cell_type": "code",
   "execution_count": 32,
   "id": "63ef0ae2-3fb4-4b51-8cf2-9144bea59d0e",
   "metadata": {},
   "outputs": [],
   "source": [
    "from sklearn.metrics import accuracy_score\n"
   ]
  },
  {
   "cell_type": "code",
   "execution_count": 40,
   "id": "aac55ca7-b501-4ab3-b169-803ba78ed84d",
   "metadata": {},
   "outputs": [
    {
     "name": "stderr",
     "output_type": "stream",
     "text": [
      "C:\\Users\\giard\\anaconda3\\lib\\site-packages\\sklearn\\model_selection\\_validation.py:683: UserWarning: Scoring failed. The score on this train-test partition for these parameters will be set to nan. Details: \n",
      "Traceback (most recent call last):\n",
      "  File \"C:\\Users\\giard\\anaconda3\\lib\\site-packages\\sklearn\\model_selection\\_validation.py\", line 674, in _score\n",
      "    scores = scorer(estimator, X_test, y_test)\n",
      "  File \"C:\\Users\\giard\\anaconda3\\lib\\site-packages\\sklearn\\metrics\\_scorer.py\", line 87, in __call__\n",
      "    score = scorer._score(cached_call, estimator,\n",
      "  File \"C:\\Users\\giard\\anaconda3\\lib\\site-packages\\sklearn\\metrics\\_scorer.py\", line 242, in _score\n",
      "    return self._sign * self._score_func(y_true, y_pred,\n",
      "  File \"C:\\Users\\giard\\anaconda3\\lib\\site-packages\\sklearn\\utils\\validation.py\", line 63, in inner_f\n",
      "    return f(*args, **kwargs)\n",
      "  File \"C:\\Users\\giard\\anaconda3\\lib\\site-packages\\sklearn\\metrics\\_classification.py\", line 202, in accuracy_score\n",
      "    y_type, y_true, y_pred = _check_targets(y_true, y_pred)\n",
      "  File \"C:\\Users\\giard\\anaconda3\\lib\\site-packages\\sklearn\\metrics\\_classification.py\", line 100, in _check_targets\n",
      "    raise ValueError(\"{0} is not supported\".format(y_type))\n",
      "ValueError: multiclass-multioutput is not supported\n",
      "\n",
      "  warnings.warn(\n",
      "C:\\Users\\giard\\anaconda3\\lib\\site-packages\\sklearn\\model_selection\\_validation.py:683: UserWarning: Scoring failed. The score on this train-test partition for these parameters will be set to nan. Details: \n",
      "Traceback (most recent call last):\n",
      "  File \"C:\\Users\\giard\\anaconda3\\lib\\site-packages\\sklearn\\model_selection\\_validation.py\", line 674, in _score\n",
      "    scores = scorer(estimator, X_test, y_test)\n",
      "  File \"C:\\Users\\giard\\anaconda3\\lib\\site-packages\\sklearn\\metrics\\_scorer.py\", line 87, in __call__\n",
      "    score = scorer._score(cached_call, estimator,\n",
      "  File \"C:\\Users\\giard\\anaconda3\\lib\\site-packages\\sklearn\\metrics\\_scorer.py\", line 242, in _score\n",
      "    return self._sign * self._score_func(y_true, y_pred,\n",
      "  File \"C:\\Users\\giard\\anaconda3\\lib\\site-packages\\sklearn\\utils\\validation.py\", line 63, in inner_f\n",
      "    return f(*args, **kwargs)\n",
      "  File \"C:\\Users\\giard\\anaconda3\\lib\\site-packages\\sklearn\\metrics\\_classification.py\", line 202, in accuracy_score\n",
      "    y_type, y_true, y_pred = _check_targets(y_true, y_pred)\n",
      "  File \"C:\\Users\\giard\\anaconda3\\lib\\site-packages\\sklearn\\metrics\\_classification.py\", line 100, in _check_targets\n",
      "    raise ValueError(\"{0} is not supported\".format(y_type))\n",
      "ValueError: multiclass-multioutput is not supported\n",
      "\n",
      "  warnings.warn(\n"
     ]
    }
   ],
   "source": [
    "from sklearn.model_selection import cross_validate, KFold\n",
    "\n",
    "\n",
    "scores = cross_validate(classificatore, X_train, y_train, cv=2, scoring=['accuracy'])"
   ]
  },
  {
   "cell_type": "code",
   "execution_count": null,
   "id": "38099e40-4148-4c15-82df-b34f51f73e0a",
   "metadata": {},
   "outputs": [],
   "source": []
  }
 ],
 "metadata": {
  "kernelspec": {
   "display_name": "Python 3",
   "language": "python",
   "name": "python3"
  },
  "language_info": {
   "codemirror_mode": {
    "name": "ipython",
    "version": 3
   },
   "file_extension": ".py",
   "mimetype": "text/x-python",
   "name": "python",
   "nbconvert_exporter": "python",
   "pygments_lexer": "ipython3",
   "version": "3.8.8"
  }
 },
 "nbformat": 4,
 "nbformat_minor": 5
}
